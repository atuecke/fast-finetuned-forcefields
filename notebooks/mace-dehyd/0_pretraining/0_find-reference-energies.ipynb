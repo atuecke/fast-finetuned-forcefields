{
 "cells": [
  {
   "cell_type": "markdown",
   "metadata": {},
   "source": [
    "# Finds the reference energies for the initial H5 dataset\n",
    "The initial dataset can be found here: \n",
    "https://springernature.figshare.com/articles/dataset/ANI-1x_Dataset_Release/10047041?backTo=/collections/The_ANI-1ccx_and_ANI-1x_data_sets_coupled-cluster_and_density_functional_theory_properties_for_molecules/4712477"
   ]
  },
  {
   "cell_type": "code",
   "execution_count": 1,
   "metadata": {},
   "outputs": [],
   "source": [
    "from sklearn.linear_model import RANSACRegressor, LinearRegression\n",
    "from collections import Counter\n",
    "from pathlib import Path\n",
    "import pandas as pd\n",
    "import numpy as np\n",
    "import json\n",
    "import h5py\n",
    "from ase import units"
   ]
  },
  {
   "cell_type": "code",
   "execution_count": 2,
   "metadata": {},
   "outputs": [],
   "source": [
    "method = 'wb97x_dz'\n",
    "ref_file = Path(f'../data/{method}-reference_energies.json') #Where to save reference energies\n",
    "data_file = Path('../data/raw-data/ani1x-release.h5') #The origonal h5 file"
   ]
  },
  {
   "cell_type": "markdown",
   "metadata": {},
   "source": [
    "Create a pandas dataset that contains formula, count of each atom, and minimum energy for each molecule in the dataset"
   ]
  },
  {
   "cell_type": "code",
   "execution_count": null,
   "metadata": {},
   "outputs": [],
   "source": [
    "records = {}  # name -> entry\n",
    "with h5py.File(data_file, 'r') as original_data:\n",
    "        # Loop over each composition\n",
    "        for composition, page in original_data.items():\n",
    "            c = Counter(page[\"atomic_numbers\"][:])\n",
    "            c = {str(key): value for key, value in c.items()}\n",
    "            record = dict(c)\n",
    "            record[\"name\"] = composition\n",
    "            all_energies = page[f\"{method}.energy\"]\n",
    "            for i, coords in enumerate(page[\"coordinates\"]):\n",
    "                record[\"energy\"] = all_energies[i] * units.Ha\n",
    "                if composition not in records or \\\n",
    "                        record['energy'] < records[composition]['energy']:\n",
    "                    records[composition] = record\n",
    "\n",
    "records = pd.DataFrame(records).T"
   ]
  },
  {
   "cell_type": "code",
   "execution_count": null,
   "metadata": {},
   "outputs": [
    {
     "data": {
      "text/html": [
       "<div>\n",
       "<style scoped>\n",
       "    .dataframe tbody tr th:only-of-type {\n",
       "        vertical-align: middle;\n",
       "    }\n",
       "\n",
       "    .dataframe tbody tr th {\n",
       "        vertical-align: top;\n",
       "    }\n",
       "\n",
       "    .dataframe thead th {\n",
       "        text-align: right;\n",
       "    }\n",
       "</style>\n",
       "<table border=\"1\" class=\"dataframe\">\n",
       "  <thead>\n",
       "    <tr style=\"text-align: right;\">\n",
       "      <th></th>\n",
       "      <th>6</th>\n",
       "      <th>1</th>\n",
       "      <th>name</th>\n",
       "      <th>energy</th>\n",
       "      <th>7</th>\n",
       "      <th>8</th>\n",
       "    </tr>\n",
       "  </thead>\n",
       "  <tbody>\n",
       "    <tr>\n",
       "      <th>C10H10</th>\n",
       "      <td>10</td>\n",
       "      <td>10</td>\n",
       "      <td>C10H10</td>\n",
       "      <td>-10520.540471</td>\n",
       "      <td>NaN</td>\n",
       "      <td>NaN</td>\n",
       "    </tr>\n",
       "    <tr>\n",
       "      <th>C10H10N2</th>\n",
       "      <td>10</td>\n",
       "      <td>10</td>\n",
       "      <td>C10H10N2</td>\n",
       "      <td>-13505.850326</td>\n",
       "      <td>2</td>\n",
       "      <td>NaN</td>\n",
       "    </tr>\n",
       "    <tr>\n",
       "      <th>C10H10N2O1</th>\n",
       "      <td>10</td>\n",
       "      <td>10</td>\n",
       "      <td>C10H10N2O1</td>\n",
       "      <td>-15544.826008</td>\n",
       "      <td>2</td>\n",
       "      <td>1</td>\n",
       "    </tr>\n",
       "    <tr>\n",
       "      <th>C10H10N2O2</th>\n",
       "      <td>10</td>\n",
       "      <td>10</td>\n",
       "      <td>C10H10N2O2</td>\n",
       "      <td>-17587.740457</td>\n",
       "      <td>2</td>\n",
       "      <td>2</td>\n",
       "    </tr>\n",
       "    <tr>\n",
       "      <th>C10H10N4</th>\n",
       "      <td>10</td>\n",
       "      <td>10</td>\n",
       "      <td>C10H10N4</td>\n",
       "      <td>-16486.386689</td>\n",
       "      <td>4</td>\n",
       "      <td>NaN</td>\n",
       "    </tr>\n",
       "  </tbody>\n",
       "</table>\n",
       "</div>"
      ],
      "text/plain": [
       "             6   1        name        energy    7    8\n",
       "C10H10      10  10      C10H10 -10520.540471  NaN  NaN\n",
       "C10H10N2    10  10    C10H10N2 -13505.850326    2  NaN\n",
       "C10H10N2O1  10  10  C10H10N2O1 -15544.826008    2    1\n",
       "C10H10N2O2  10  10  C10H10N2O2 -17587.740457    2    2\n",
       "C10H10N4    10  10    C10H10N4 -16486.386689    4  NaN"
      ]
     },
     "execution_count": 10,
     "metadata": {},
     "output_type": "execute_result"
    }
   ],
   "source": [
    "records.head(5)"
   ]
  },
  {
   "cell_type": "code",
   "execution_count": null,
   "metadata": {},
   "outputs": [
    {
     "name": "stdout",
     "output_type": "stream",
     "text": [
      "We found 4 elements: ['6', '1', '7', '8']\n"
     ]
    }
   ],
   "source": [
    "elem_columns = [c for c in records.columns if len(c) < 3]   # I know the non-element columns have names with >3 characters\n",
    "print(f'We found {len(elem_columns)} elements: {elem_columns}')"
   ]
  },
  {
   "cell_type": "markdown",
   "metadata": {},
   "source": [
    "Sets NaNs to zero "
   ]
  },
  {
   "cell_type": "code",
   "execution_count": null,
   "metadata": {},
   "outputs": [],
   "source": [
    "x = np.array(records[elem_columns].values, dtype=float)\n",
    "x[np.isnan(x)] = 0"
   ]
  },
  {
   "cell_type": "markdown",
   "metadata": {},
   "source": [
    "Find the reference energies using linear regression"
   ]
  },
  {
   "cell_type": "code",
   "execution_count": null,
   "metadata": {},
   "outputs": [
    {
     "data": {
      "text/plain": [
       "{'6': -1036.4229994877442,\n",
       " '1': -16.416875389564442,\n",
       " '7': -1489.0214566692116,\n",
       " '8': -2045.9142867982007}"
      ]
     },
     "execution_count": 13,
     "metadata": {},
     "output_type": "execute_result"
    }
   ],
   "source": [
    "model = RANSACRegressor(estimator=LinearRegression(fit_intercept=False)).fit(x, records['energy'])\n",
    "ref_energies = dict(zip(elem_columns, model.estimator_.coef_))\n",
    "ref_energies"
   ]
  },
  {
   "cell_type": "code",
   "execution_count": null,
   "metadata": {},
   "outputs": [],
   "source": [
    "if ref_file.exists():\n",
    "    ref_data = json.loads(ref_file.read_text())"
   ]
  },
  {
   "cell_type": "code",
   "execution_count": null,
   "metadata": {},
   "outputs": [
    {
     "data": {
      "text/plain": [
       "114"
      ]
     },
     "execution_count": 15,
     "metadata": {},
     "output_type": "execute_result"
    }
   ],
   "source": [
    "ref_file.write_text(json.dumps(ref_energies, indent=2))"
   ]
  }
 ],
 "metadata": {
  "kernelspec": {
   "display_name": "fastforce",
   "language": "python",
   "name": "python3"
  },
  "language_info": {
   "codemirror_mode": {
    "name": "ipython",
    "version": 3
   },
   "file_extension": ".py",
   "mimetype": "text/x-python",
   "name": "python",
   "nbconvert_exporter": "python",
   "pygments_lexer": "ipython3",
   "version": "3.10.12"
  },
  "orig_nbformat": 4
 },
 "nbformat": 4,
 "nbformat_minor": 2
}
