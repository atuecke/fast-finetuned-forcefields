{
 "cells": [
  {
   "cell_type": "markdown",
   "id": "08c82c6b-f017-4970-9ad9-a670353e5d9e",
   "metadata": {},
   "source": [
    "# Adjust the energy sclaes of the models\n",
    "The absolute values of energy is different between methods. We need to reset the scale by computing reference energies"
   ]
  },
  {
   "cell_type": "code",
   "execution_count": 50,
   "id": "123be0a4-b742-4024-b3bb-76694cffd7e8",
   "metadata": {},
   "outputs": [],
   "source": [
    "from ase.calculators.nwchem import NWChem\n",
    "from ase.build import molecule\n",
    "import json\n",
    "import torch"
   ]
  },
  {
   "cell_type": "markdown",
   "id": "715d1518-6b11-42af-928b-43a26ae08a8a",
   "metadata": {},
   "source": [
    "## Get the reference energies\n",
    "Get them by computing the energy of molecules"
   ]
  },
  {
   "cell_type": "code",
   "execution_count": 51,
   "id": "ca4bbe38-4a7b-4b91-b233-229a34b4df72",
   "metadata": {},
   "outputs": [],
   "source": [
    "nwchem = NWChem(theory='scf', basis='6-31g*', directory='nwchem')\n",
    "ref_energies = {}"
   ]
  },
  {
   "cell_type": "markdown",
   "id": "087f0dcf-b49e-4ac2-bc1b-2586747aacab",
   "metadata": {},
   "source": [
    "Get it for H from the H2 molecule"
   ]
  },
  {
   "cell_type": "code",
   "execution_count": 52,
   "id": "03c8f992-6437-42bb-ac73-613f2eb602b3",
   "metadata": {},
   "outputs": [
    {
     "name": "stderr",
     "output_type": "stream",
     "text": [
      "[0] ARMCI Warning: Freed 1 leaked allocations\n"
     ]
    },
    {
     "name": "stdout",
     "output_type": "stream",
     "text": [
      "Energy per H: -15.33 eV\n"
     ]
    }
   ],
   "source": [
    "h2 = molecule('H2')\n",
    "ref_energies['H'] = nwchem.get_potential_energy(h2) / 2\n",
    "print(f'Energy per H: {ref_energies[\"H\"]:.2f} eV')"
   ]
  },
  {
   "cell_type": "markdown",
   "id": "ea32e98c-dc71-4569-b1cf-605015cb10f1",
   "metadata": {},
   "source": [
    "Repeat for O and C"
   ]
  },
  {
   "cell_type": "code",
   "execution_count": 53,
   "id": "5158477f-cf73-4c31-9c5c-578141ccd3e9",
   "metadata": {},
   "outputs": [
    {
     "name": "stdout",
     "output_type": "stream",
     "text": [
      "Energy per C: -1032.44 eV\n"
     ]
    },
    {
     "name": "stderr",
     "output_type": "stream",
     "text": [
      "[0] ARMCI Warning: Freed 1 leaked allocations\n"
     ]
    }
   ],
   "source": [
    "ch4 = molecule('CH4')\n",
    "ref_energies[\"C\"] = nwchem.get_potential_energy(ch4) - 4 * ref_energies[\"H\"]\n",
    "print(f'Energy per C: {ref_energies[\"C\"]:.2f} eV')"
   ]
  },
  {
   "cell_type": "code",
   "execution_count": 54,
   "id": "f8450066-2619-4a12-90df-f34e0abf5874",
   "metadata": {},
   "outputs": [
    {
     "name": "stdout",
     "output_type": "stream",
     "text": [
      "Energy per O: -2037.67 eV\n"
     ]
    },
    {
     "name": "stderr",
     "output_type": "stream",
     "text": [
      "[0] ARMCI Warning: Freed 1 leaked allocations\n"
     ]
    }
   ],
   "source": [
    "h2o = molecule('H2O')\n",
    "ref_energies[\"O\"] = nwchem.get_potential_energy(h2o) - 2 * ref_energies[\"H\"]\n",
    "print(f'Energy per O: {ref_energies[\"O\"]:.2f} eV')"
   ]
  },
  {
   "cell_type": "code",
   "execution_count": 55,
   "id": "0921c388",
   "metadata": {},
   "outputs": [],
   "source": [
    "with open(\"../data/wb97x_dz-new_reference_energies.json\", \"w\") as f:\n",
    "    json.dump(ref_energies, f, indent=4)"
   ]
  }
 ],
 "metadata": {
  "kernelspec": {
   "display_name": "Python 3 (ipykernel)",
   "language": "python",
   "name": "python3"
  },
  "language_info": {
   "codemirror_mode": {
    "name": "ipython",
    "version": 3
   },
   "file_extension": ".py",
   "mimetype": "text/x-python",
   "name": "python",
   "nbconvert_exporter": "python",
   "pygments_lexer": "ipython3",
   "version": "3.10.12"
  }
 },
 "nbformat": 4,
 "nbformat_minor": 5
}
