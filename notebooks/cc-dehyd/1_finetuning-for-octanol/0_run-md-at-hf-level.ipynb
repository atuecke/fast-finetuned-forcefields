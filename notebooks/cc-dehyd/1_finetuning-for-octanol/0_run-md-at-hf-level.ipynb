{
 "cells": [
  {
   "cell_type": "markdown",
   "id": "25425db9-417b-4a75-ba2f-a72ca927091e",
   "metadata": {},
   "source": [
    "# Make a starting dataset with DFT\n",
    "This notebook makes an initial dataset for training a model on dehyrdation by running molecular dynamics.\n",
    "We have an initial structure from Huub and will run it at constant-temperature molecular dynamics."
   ]
  },
  {
   "cell_type": "code",
   "execution_count": 1,
   "id": "240b374d-6242-4e23-b4a2-9f8af2442d83",
   "metadata": {},
   "outputs": [],
   "source": [
    "from pathlib import Path\n",
    "from ase.md.nvtberendsen import NVTBerendsen\n",
    "from ase.md.velocitydistribution import Stationary, ZeroRotation, MaxwellBoltzmannDistribution\n",
    "from ase.calculators.socketio import SocketIOCalculator\n",
    "from ase.calculators.nwchem import NWChem\n",
    "from ase.io import read, iread\n",
    "from ase.db import connect\n",
    "from ase import units\n",
    "import shutil"
   ]
  },
  {
   "cell_type": "markdown",
   "id": "fdd93930-f4d4-4b90-8731-21a09dc8d841",
   "metadata": {},
   "source": [
    "Configuration"
   ]
  },
  {
   "cell_type": "code",
   "execution_count": 2,
   "id": "d38c09fd-6f57-4fc6-9fd2-a9b4ff98eefc",
   "metadata": {},
   "outputs": [],
   "source": [
    "temp_K = 298.15\n",
    "run_dir = Path('md-run')\n",
    "unixsocket = 'nwchem_ase'"
   ]
  },
  {
   "cell_type": "markdown",
   "id": "6babcd01-054f-4ba5-8026-fd4e07cd2088",
   "metadata": {},
   "source": [
    "Make a new dir"
   ]
  },
  {
   "cell_type": "code",
   "execution_count": 3,
   "id": "08cd080c-99c9-4522-a8f1-cc3629a2b39a",
   "metadata": {},
   "outputs": [],
   "source": [
    "if run_dir.exists():\n",
    "    shutil.rmtree(run_dir)\n",
    "run_dir.mkdir()"
   ]
  },
  {
   "cell_type": "markdown",
   "id": "b0050ed2-f2e8-45af-b0d3-8d6f3134a257",
   "metadata": {},
   "source": [
    "## Load the initial structure\n",
    "We have a molecule at the precipice of becoming dehydrated."
   ]
  },
  {
   "cell_type": "code",
   "execution_count": 4,
   "id": "f5328ed0-c632-4b17-98a0-a4defbbe1b65",
   "metadata": {},
   "outputs": [],
   "source": [
    "atoms = read('../example/stuff-oh-h.xyz')"
   ]
  },
  {
   "cell_type": "markdown",
   "id": "cbafbfe3-7559-4b6b-a8f0-342092a1ecaf",
   "metadata": {},
   "source": [
    "## Create an NWChem Calculator\n",
    "Ready to compute HF with \"6-31g*\" basis set"
   ]
  },
  {
   "cell_type": "code",
   "execution_count": 5,
   "id": "7d2e80c5-260c-4d15-ac6a-5a1cce9984e5",
   "metadata": {},
   "outputs": [],
   "source": [
    "nwchem = NWChem(theory='scf', basis='6-31g*', task='optimize', directory=run_dir, driver={'socket': {'unix': unixsocket}})"
   ]
  },
  {
   "cell_type": "markdown",
   "id": "e49fef41-dc86-467d-acea-e378ab9ff679",
   "metadata": {},
   "source": [
    "## Perform Molecular Dynamics\n",
    "Do NVT dynamics at at a temperature of 298.15K for 1000 timesteps, saving a frame at every step"
   ]
  },
  {
   "cell_type": "markdown",
   "id": "a5cda342-a2f7-4f48-943b-9376cac24f76",
   "metadata": {},
   "source": [
    "First initialize the velocities"
   ]
  },
  {
   "cell_type": "code",
   "execution_count": 6,
   "id": "b4d660cd-11ce-492a-9c7b-5819b5550977",
   "metadata": {},
   "outputs": [
    {
     "name": "stdout",
     "output_type": "stream",
     "text": [
      "Initial temperature is 298.15K\n"
     ]
    }
   ],
   "source": [
    "MaxwellBoltzmannDistribution(atoms, temperature_K=temp_K, force_temp=True)\n",
    "Stationary(atoms)\n",
    "ZeroRotation(atoms)\n",
    "print(f'Initial temperature is {atoms.get_temperature():.2f}K')"
   ]
  },
  {
   "cell_type": "markdown",
   "id": "7b09c4ae-1004-4490-bdea-0fb28327f90d",
   "metadata": {},
   "source": [
    "Set up the run"
   ]
  },
  {
   "cell_type": "code",
   "execution_count": 7,
   "id": "df4c4ba9-5dca-4b92-ba51-b1d0132ac9ec",
   "metadata": {},
   "outputs": [],
   "source": [
    "md = NVTBerendsen(atoms, timestep=10 * units.AUT,\n",
    "                  temperature_K=temp_K, taut=0.2 * units.fs,\n",
    "                  logfile=str(run_dir / 'md.log'),\n",
    "                  trajectory=str(run_dir / 'md.traj'))"
   ]
  },
  {
   "cell_type": "markdown",
   "id": "d445e8fc-ad70-45e3-90fb-9153423cdd71",
   "metadata": {},
   "source": [
    "Run it"
   ]
  },
  {
   "cell_type": "code",
   "execution_count": null,
   "id": "7a98331a-e92b-4ad1-b091-e24b1e2e39a7",
   "metadata": {},
   "outputs": [],
   "source": [
    "with SocketIOCalculator(nwchem, unixsocket=unixsocket) as calc:\n",
    "    atoms.calc = calc\n",
    "    md.run(1000)"
   ]
  },
  {
   "cell_type": "markdown",
   "id": "d28b5075-8c67-4b87-bc4e-aaad37c0c613",
   "metadata": {},
   "source": [
    "Convert to ASE DB, which we use as an interchange format"
   ]
  },
  {
   "cell_type": "code",
   "execution_count": null,
   "id": "fbdbc16b-4ede-4906-9065-56feeb3c484b",
   "metadata": {},
   "outputs": [],
   "source": [
    "with connect('initial-data.db', append=False) as db:\n",
    "    for frame in iread(run_dir / 'md.traj'):\n",
    "        db.write(frame)"
   ]
  },
  {
   "cell_type": "code",
   "execution_count": null,
   "id": "7e573fdf-9ff5-4033-88f6-52f25ff92923",
   "metadata": {},
   "outputs": [],
   "source": []
  }
 ],
 "metadata": {
  "kernelspec": {
   "display_name": "Python 3 (ipykernel)",
   "language": "python",
   "name": "python3"
  },
  "language_info": {
   "codemirror_mode": {
    "name": "ipython",
    "version": 3
   },
   "file_extension": ".py",
   "mimetype": "text/x-python",
   "name": "python",
   "nbconvert_exporter": "python",
   "pygments_lexer": "ipython3",
   "version": "3.10.8"
  }
 },
 "nbformat": 4,
 "nbformat_minor": 5
}
