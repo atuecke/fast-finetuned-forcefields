{
 "cells": [
  {
   "cell_type": "markdown",
   "id": "9f851ce0-9265-4b92-af93-37586d002c77",
   "metadata": {},
   "source": [
    "# Determine Offsets for SchNet\n",
    "SchNet needs an reference energy for each atom and a mean/std devation for the energy"
   ]
  },
  {
   "cell_type": "code",
   "execution_count": 1,
   "id": "a5fa9b1d-f892-4e16-8de8-b6e7da5555bf",
   "metadata": {},
   "outputs": [],
   "source": [
    "from sklearn.linear_model import RANSACRegressor, LinearRegression\n",
    "from collections import Counter\n",
    "from ase.db import connect\n",
    "from pathlib import Path\n",
    "from tqdm import tqdm\n",
    "import pandas as pd\n",
    "import numpy as np\n",
    "import json"
   ]
  },
  {
   "cell_type": "markdown",
   "id": "881cd3e0-3aa7-46e5-b4ff-d8cc9859c4db",
   "metadata": {},
   "source": [
    "Configuration"
   ]
  },
  {
   "cell_type": "code",
   "execution_count": 2,
   "id": "11b08795-abc3-447e-a5c9-3df347ffe68f",
   "metadata": {},
   "outputs": [],
   "source": [
    "method = 'wb97x_dz'\n",
    "ref_file = Path('reference_energies.json')"
   ]
  },
  {
   "cell_type": "markdown",
   "id": "2ab2bdc7-3389-415f-8af8-2e7d9435c46f",
   "metadata": {},
   "source": [
    "## Load in the Data\n",
    "Get the energy and composition of each entry in the training set. We only store the lowest energy for each composition"
   ]
  },
  {
   "cell_type": "code",
   "execution_count": 3,
   "id": "5d4d6483-f101-453e-ac9b-39b42e5799bb",
   "metadata": {},
   "outputs": [
    {
     "name": "stderr",
     "output_type": "stream",
     "text": [
      "3890235it [03:10, 20470.26it/s]\n"
     ]
    }
   ],
   "source": [
    "records = {}  # name -> entry\n",
    "with connect(Path('data/') / method / 'train.db') as db:\n",
    "    for row in tqdm(db.select('')):\n",
    "        # Count the atoms\n",
    "        c = Counter(row.symbols)\n",
    "        record = dict(c)\n",
    "        record['name'] = row.name\n",
    "        \n",
    "        # Add the energy and atom count\n",
    "        record['n_atoms'] = sum(c.values())\n",
    "        record['energy'] = row.energy\n",
    "        if row.name not in records or \\\n",
    "            row.energy < records[row.name]['energy']:\n",
    "            records[row.name] = record\n",
    "records = pd.DataFrame(records).T"
   ]
  },
  {
   "cell_type": "code",
   "execution_count": 4,
   "id": "9e92d4da-865f-4c70-a3e2-b09593c5b317",
   "metadata": {},
   "outputs": [
    {
     "data": {
      "text/html": [
       "<div>\n",
       "<style scoped>\n",
       "    .dataframe tbody tr th:only-of-type {\n",
       "        vertical-align: middle;\n",
       "    }\n",
       "\n",
       "    .dataframe tbody tr th {\n",
       "        vertical-align: top;\n",
       "    }\n",
       "\n",
       "    .dataframe thead th {\n",
       "        text-align: right;\n",
       "    }\n",
       "</style>\n",
       "<table border=\"1\" class=\"dataframe\">\n",
       "  <thead>\n",
       "    <tr style=\"text-align: right;\">\n",
       "      <th></th>\n",
       "      <th>C</th>\n",
       "      <th>H</th>\n",
       "      <th>name</th>\n",
       "      <th>n_atoms</th>\n",
       "      <th>energy</th>\n",
       "      <th>N</th>\n",
       "      <th>O</th>\n",
       "    </tr>\n",
       "  </thead>\n",
       "  <tbody>\n",
       "    <tr>\n",
       "      <th>C10H10</th>\n",
       "      <td>10</td>\n",
       "      <td>10</td>\n",
       "      <td>C10H10</td>\n",
       "      <td>20</td>\n",
       "      <td>-5264.883878</td>\n",
       "      <td>NaN</td>\n",
       "      <td>NaN</td>\n",
       "    </tr>\n",
       "    <tr>\n",
       "      <th>C10H10N2</th>\n",
       "      <td>10</td>\n",
       "      <td>10</td>\n",
       "      <td>C10H10N2</td>\n",
       "      <td>22</td>\n",
       "      <td>-6754.892183</td>\n",
       "      <td>2</td>\n",
       "      <td>NaN</td>\n",
       "    </tr>\n",
       "  </tbody>\n",
       "</table>\n",
       "</div>"
      ],
      "text/plain": [
       "           C   H      name n_atoms       energy    N    O\n",
       "C10H10    10  10    C10H10      20 -5264.883878  NaN  NaN\n",
       "C10H10N2  10  10  C10H10N2      22 -6754.892183    2  NaN"
      ]
     },
     "execution_count": 4,
     "metadata": {},
     "output_type": "execute_result"
    }
   ],
   "source": [
    "records.head(2)"
   ]
  },
  {
   "cell_type": "markdown",
   "id": "63e9e092-81d9-48e4-913d-b20173793c2e",
   "metadata": {},
   "source": [
    "## Fit Atomic Reference Energies\n",
    "Fit a linear model that predicts energy as a function of number of atoms. The coefficients are our atomic reference energies"
   ]
  },
  {
   "cell_type": "code",
   "execution_count": 5,
   "id": "cb48c9f4-3c49-474c-830c-793cfc474ee4",
   "metadata": {},
   "outputs": [
    {
     "name": "stdout",
     "output_type": "stream",
     "text": [
      "We found 4 elements: ['C', 'H', 'N', 'O']\n"
     ]
    }
   ],
   "source": [
    "elem_columns = [c for c in records.columns if len(c) < 3]   # I know the non-element columns have names with >3 characters\n",
    "print(f'We found {len(elem_columns)} elements: {elem_columns}')"
   ]
  },
  {
   "cell_type": "markdown",
   "id": "6efe3e51-654d-4916-a0ec-1ac685326819",
   "metadata": {},
   "source": [
    "Get the values and ensure 'nans' are zeros"
   ]
  },
  {
   "cell_type": "code",
   "execution_count": 6,
   "id": "4c874f2e-7cf9-4d4f-be15-d490ab40069c",
   "metadata": {},
   "outputs": [],
   "source": [
    "x = np.array(records[elem_columns].values, dtype=float)\n",
    "x[np.isnan(x)] = 0"
   ]
  },
  {
   "cell_type": "markdown",
   "id": "4b5b2fa8-452f-43da-88b1-93c7b462b7e7",
   "metadata": {},
   "source": [
    "Fit and extract coefficients"
   ]
  },
  {
   "cell_type": "code",
   "execution_count": 7,
   "id": "1922ee2e-077d-4e31-84a9-061384bf34d4",
   "metadata": {},
   "outputs": [
    {
     "data": {
      "text/plain": [
       "{'C': -518.2976535294367,\n",
       " 'H': -8.206374313766219,\n",
       " 'N': -744.5895241965858,\n",
       " 'O': -1023.0426190845573}"
      ]
     },
     "execution_count": 7,
     "metadata": {},
     "output_type": "execute_result"
    }
   ],
   "source": [
    "model = RANSACRegressor(estimator=LinearRegression(fit_intercept=False)).fit(x, records['energy'])\n",
    "ref_energies = dict(zip(elem_columns, model.estimator_.coef_))\n",
    "ref_energies"
   ]
  },
  {
   "cell_type": "markdown",
   "id": "88615e17-e988-4ca7-b3c4-dad68eaffbc1",
   "metadata": {},
   "source": [
    "## Compute the Mean and Standard Deviation\n",
    "Get the mean and standard deviation of the per-atom energy"
   ]
  },
  {
   "cell_type": "code",
   "execution_count": 8,
   "id": "4188b0a5-ee19-408a-b253-a90a09aa317e",
   "metadata": {},
   "outputs": [],
   "source": [
    "records['ref_energy'] = model.predict(x)"
   ]
  },
  {
   "cell_type": "code",
   "execution_count": 9,
   "id": "f8572eda-327f-4425-96ca-ab4e3b2178e2",
   "metadata": {},
   "outputs": [],
   "source": [
    "records['norm_energy'] = records['energy'] - records['ref_energy']"
   ]
  },
  {
   "cell_type": "code",
   "execution_count": 10,
   "id": "9ef8a5e7-0fe9-4cc0-9131-e01ce5214c7d",
   "metadata": {},
   "outputs": [
    {
     "data": {
      "text/html": [
       "<div>\n",
       "<style scoped>\n",
       "    .dataframe tbody tr th:only-of-type {\n",
       "        vertical-align: middle;\n",
       "    }\n",
       "\n",
       "    .dataframe tbody tr th {\n",
       "        vertical-align: top;\n",
       "    }\n",
       "\n",
       "    .dataframe thead th {\n",
       "        text-align: right;\n",
       "    }\n",
       "</style>\n",
       "<table border=\"1\" class=\"dataframe\">\n",
       "  <thead>\n",
       "    <tr style=\"text-align: right;\">\n",
       "      <th></th>\n",
       "      <th>C</th>\n",
       "      <th>H</th>\n",
       "      <th>name</th>\n",
       "      <th>n_atoms</th>\n",
       "      <th>energy</th>\n",
       "      <th>N</th>\n",
       "      <th>O</th>\n",
       "      <th>ref_energy</th>\n",
       "      <th>norm_energy</th>\n",
       "    </tr>\n",
       "  </thead>\n",
       "  <tbody>\n",
       "    <tr>\n",
       "      <th>C10H10</th>\n",
       "      <td>10</td>\n",
       "      <td>10</td>\n",
       "      <td>C10H10</td>\n",
       "      <td>20</td>\n",
       "      <td>-5264.883878</td>\n",
       "      <td>NaN</td>\n",
       "      <td>NaN</td>\n",
       "      <td>-5265.040278</td>\n",
       "      <td>0.156401</td>\n",
       "    </tr>\n",
       "    <tr>\n",
       "      <th>C10H10N2</th>\n",
       "      <td>10</td>\n",
       "      <td>10</td>\n",
       "      <td>C10H10N2</td>\n",
       "      <td>22</td>\n",
       "      <td>-6754.892183</td>\n",
       "      <td>2</td>\n",
       "      <td>NaN</td>\n",
       "      <td>-6754.219327</td>\n",
       "      <td>-0.672856</td>\n",
       "    </tr>\n",
       "    <tr>\n",
       "      <th>C10H10N2O1</th>\n",
       "      <td>10</td>\n",
       "      <td>10</td>\n",
       "      <td>C10H10N2O1</td>\n",
       "      <td>23</td>\n",
       "      <td>-7778.299828</td>\n",
       "      <td>2</td>\n",
       "      <td>1</td>\n",
       "      <td>-7777.261946</td>\n",
       "      <td>-1.037882</td>\n",
       "    </tr>\n",
       "    <tr>\n",
       "      <th>C10H10N4O1</th>\n",
       "      <td>10</td>\n",
       "      <td>10</td>\n",
       "      <td>C10H10N4O1</td>\n",
       "      <td>25</td>\n",
       "      <td>-9267.21088</td>\n",
       "      <td>4</td>\n",
       "      <td>1</td>\n",
       "      <td>-9266.440994</td>\n",
       "      <td>-0.769886</td>\n",
       "    </tr>\n",
       "    <tr>\n",
       "      <th>C10H10O1</th>\n",
       "      <td>10</td>\n",
       "      <td>10</td>\n",
       "      <td>C10H10O1</td>\n",
       "      <td>21</td>\n",
       "      <td>-6288.633512</td>\n",
       "      <td>NaN</td>\n",
       "      <td>1</td>\n",
       "      <td>-6288.082898</td>\n",
       "      <td>-0.550614</td>\n",
       "    </tr>\n",
       "  </tbody>\n",
       "</table>\n",
       "</div>"
      ],
      "text/plain": [
       "             C   H        name n_atoms       energy    N    O   ref_energy  \\\n",
       "C10H10      10  10      C10H10      20 -5264.883878  NaN  NaN -5265.040278   \n",
       "C10H10N2    10  10    C10H10N2      22 -6754.892183    2  NaN -6754.219327   \n",
       "C10H10N2O1  10  10  C10H10N2O1      23 -7778.299828    2    1 -7777.261946   \n",
       "C10H10N4O1  10  10  C10H10N4O1      25  -9267.21088    4    1 -9266.440994   \n",
       "C10H10O1    10  10    C10H10O1      21 -6288.633512  NaN    1 -6288.082898   \n",
       "\n",
       "           norm_energy  \n",
       "C10H10        0.156401  \n",
       "C10H10N2     -0.672856  \n",
       "C10H10N2O1   -1.037882  \n",
       "C10H10N4O1   -0.769886  \n",
       "C10H10O1     -0.550614  "
      ]
     },
     "execution_count": 10,
     "metadata": {},
     "output_type": "execute_result"
    }
   ],
   "source": [
    "records.head(5)"
   ]
  },
  {
   "cell_type": "code",
   "execution_count": 11,
   "id": "9f1677d2-e9e1-4216-8616-4b634af208fa",
   "metadata": {},
   "outputs": [],
   "source": [
    "mean = records['norm_energy'].mean()  # TODO (wardlt): Normalize energy/atom\n",
    "std = records['norm_energy'].std()"
   ]
  },
  {
   "cell_type": "markdown",
   "id": "9d5ae4c7-4b09-4ef5-98e6-3bac1207b903",
   "metadata": {},
   "source": [
    "## Save them\n",
    "We'll keep a JSON document with the total data in it"
   ]
  },
  {
   "cell_type": "code",
   "execution_count": 12,
   "id": "1fdac3bd-f1e2-4a3d-9c30-947278942705",
   "metadata": {},
   "outputs": [],
   "source": [
    "ref_data = {}\n",
    "if ref_file.exists():\n",
    "    ref_data = json.loads(ref_file.read_text())"
   ]
  },
  {
   "cell_type": "code",
   "execution_count": 13,
   "id": "3e77b2fb-0601-4055-b21a-ccce65cd6745",
   "metadata": {},
   "outputs": [],
   "source": [
    "ref_data[method] = {\n",
    "    'ref_energies': ref_energies,\n",
    "    'offsets': {'mean': mean, 'std': std}\n",
    "}"
   ]
  },
  {
   "cell_type": "code",
   "execution_count": 14,
   "id": "042eccb7-93ae-4015-9311-66c36ae38719",
   "metadata": {},
   "outputs": [
    {
     "data": {
      "text/plain": [
       "266"
      ]
     },
     "execution_count": 14,
     "metadata": {},
     "output_type": "execute_result"
    }
   ],
   "source": [
    "ref_file.write_text(json.dumps(ref_data, indent=2))"
   ]
  },
  {
   "cell_type": "code",
   "execution_count": null,
   "id": "60522644-1129-42f0-9552-a0d39b4cd496",
   "metadata": {},
   "outputs": [],
   "source": []
  }
 ],
 "metadata": {
  "kernelspec": {
   "display_name": "Python 3 (ipykernel)",
   "language": "python",
   "name": "python3"
  },
  "language_info": {
   "codemirror_mode": {
    "name": "ipython",
    "version": 3
   },
   "file_extension": ".py",
   "mimetype": "text/x-python",
   "name": "python",
   "nbconvert_exporter": "python",
   "pygments_lexer": "ipython3",
   "version": "3.10.8"
  }
 },
 "nbformat": 4,
 "nbformat_minor": 5
}
