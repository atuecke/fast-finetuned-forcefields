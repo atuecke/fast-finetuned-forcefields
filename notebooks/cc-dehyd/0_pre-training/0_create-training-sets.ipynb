{
 "cells": [
  {
   "cell_type": "markdown",
   "id": "22df14f2-f625-4ee3-a10c-189c12dcbd17",
   "metadata": {},
   "source": [
    "# Convert H5 file to ASE DB\n",
    "Convert the data to ASE db objects where the data are partitioned into set training, test and validation sets"
   ]
  },
  {
   "cell_type": "code",
   "execution_count": 1,
   "id": "66235503-313e-4ac7-bbf2-f403eff916c0",
   "metadata": {},
   "outputs": [],
   "source": [
    "from typing import Iterator\n",
    "from pathlib import Path\n",
    "from sklearn.model_selection import train_test_split\n",
    "from ase.calculators.singlepoint import SinglePointCalculator\n",
    "from ase import Atoms, units\n",
    "from ase.db import connect\n",
    "from multiprocessing import Pool\n",
    "from shutil import rmtree\n",
    "from tqdm import tqdm\n",
    "import numpy as np\n",
    "import h5py"
   ]
  },
  {
   "cell_type": "markdown",
   "id": "2623db2e-9d22-4ef3-9661-67b11f8779ab",
   "metadata": {},
   "source": [
    "Configuration"
   ]
  },
  {
   "cell_type": "code",
   "execution_count": 2,
   "id": "e026fc44-acc5-4479-8ac0-40821a806f9f",
   "metadata": {},
   "outputs": [],
   "source": [
    "methods_to_save = ['ccsd(t)_cbs', 'wb97x_dz']  # Which energies to save\n",
    "test_split = 0.1  # Fraction of full dataset to reserve for testing\n",
    "valid_split = 0.1  # Fraction of non-test data to hold off for training"
   ]
  },
  {
   "cell_type": "markdown",
   "id": "b9b520f6-e99f-4c5b-8adf-ae153c1b0fbd",
   "metadata": {},
   "source": [
    "## Open the File\n",
    "The data is stored in an H5 where each keys is a different molecule, and the data for each molecule follows the layout in [this SciData paper](https://www.nature.com/articles/s41597-020-0473-z/tables/2)."
   ]
  },
  {
   "cell_type": "code",
   "execution_count": 3,
   "id": "49498211-1901-4183-afc1-4a23fff2d1cf",
   "metadata": {},
   "outputs": [
    {
     "name": "stdout",
     "output_type": "stream",
     "text": [
      "Loaded dataset with 3114 molecules\n"
     ]
    }
   ],
   "source": [
    "original_data = h5py.File('raw-data/ani1x-release.h5')\n",
    "print(f'Loaded dataset with {len(original_data)} molecules')"
   ]
  },
  {
   "cell_type": "markdown",
   "id": "782ae9ac-ba98-4ac7-a882-251b53d9a432",
   "metadata": {},
   "source": [
    "Divide off names"
   ]
  },
  {
   "cell_type": "code",
   "execution_count": 4,
   "id": "9ba10307-19b5-44b0-ac9d-0659160e52e5",
   "metadata": {},
   "outputs": [],
   "source": [
    "all_names = list(original_data.keys())"
   ]
  },
  {
   "cell_type": "code",
   "execution_count": 5,
   "id": "efbb6467-de7c-43ec-a7f9-10791a7689c4",
   "metadata": {},
   "outputs": [],
   "source": [
    "train_names, test_names = train_test_split(all_names, test_size=test_split, shuffle=True, random_state=1)\n",
    "train_names, valid_names = train_test_split(train_names, test_size=valid_split, shuffle=True, random_state=1)"
   ]
  },
  {
   "cell_type": "markdown",
   "id": "ddf47edd-3af4-419c-a7c0-732c4ce28d1d",
   "metadata": {},
   "source": [
    "## Save every molecule to ASE database\n",
    "Record the composition of the molecule as its name, save the energy and forces"
   ]
  },
  {
   "cell_type": "code",
   "execution_count": 6,
   "id": "44c6eb6c-3c78-441c-86a7-9d9ab64d73b4",
   "metadata": {},
   "outputs": [],
   "source": [
    "data_dir = Path('data/')\n",
    "data_dir.mkdir(exist_ok=True)"
   ]
  },
  {
   "cell_type": "code",
   "execution_count": 7,
   "id": "7ef91426-d980-45f4-9e79-eef9708cab35",
   "metadata": {},
   "outputs": [],
   "source": [
    "def page_to_atoms(page: h5py.Group, method: str) -> Iterator[Atoms]:\n",
    "    \"\"\"Convert a page of the HDF5 file to a single record\n",
    "    \n",
    "    Args:\n",
    "        page: Page of the H5Py database\n",
    "    Yields:\n",
    "        ASE Atoms object with the energies and forces        \n",
    "    \"\"\"\n",
    "    \n",
    "    # Get the energies at the desired level\n",
    "    all_energies = page[f'{method}.energy']\n",
    "    \n",
    "    # Get the forces if they are available\n",
    "    force_name = f'{method}.forces' \n",
    "    all_forces = page[force_name] if force_name in page else None\n",
    "    \n",
    "    # Generate configurations\n",
    "    def _generate_configurations(): \n",
    "        for i, coords in enumerate(page['coordinates']):\n",
    "            # Skip if energy not done\n",
    "            if np.isnan(all_energies[i]):\n",
    "                continue\n",
    "                \n",
    "            yield (coords,\n",
    "                   all_energies[i] * units.Ry,\n",
    "                   None if all_forces is None else np.multiply(all_forces[i], units.Ry))\n",
    "            \n",
    "    def _to_atoms(x):\n",
    "        coords, energy, forces = x\n",
    "        # Make the atoms object\n",
    "        atoms = Atoms(numbers=page['atomic_numbers'], positions=coords)\n",
    "        atoms.center()\n",
    "\n",
    "        # Add the calculator\n",
    "        calc = SinglePointCalculator(\n",
    "            atoms=atoms,\n",
    "            energy=energy,\n",
    "            forces=forces\n",
    "        )\n",
    "        atoms.calc = calc\n",
    "        return atoms\n",
    "        \n",
    "    yield from map(_to_atoms, _generate_configurations())"
   ]
  },
  {
   "cell_type": "code",
   "execution_count": 8,
   "id": "77e4a94f-8ec4-43cd-a1ac-2eef2fd5ef57",
   "metadata": {},
   "outputs": [
    {
     "name": "stderr",
     "output_type": "stream",
     "text": [
      "ccsd(t)_cbs: 100%|████████████████████████████████████████████████████████████████████████████████████████████████████████████████████████████████████████████████████████████████████████████████████████████████████████████████████████████████████| 3114/3114 [07:49<00:00,  6.64it/s]\n",
      "wb97x_dz: 100%|█████████████████████████████████████████████████████████████████████████████████████████████████████████████████████████████████████████████████████████████████████████████████████████████████████████████████████████████████████| 3114/3114 [1:29:23<00:00,  1.72s/it]\n"
     ]
    }
   ],
   "source": [
    "for method in methods_to_save:\n",
    "    # Prepare the output directory\n",
    "    method_dir = data_dir / method\n",
    "    if method_dir.exists():\n",
    "        rmtree(method_dir)\n",
    "    method_dir.mkdir()\n",
    "    \n",
    "    # Loop over each composition\n",
    "    for composition, page in tqdm(original_data.items(), desc=method):\n",
    "        # Determine which database to write to\n",
    "        if composition in train_names:\n",
    "            db_name = method_dir / 'train.db'\n",
    "        elif composition in test_names:\n",
    "            db_name = method_dir / 'test.db'\n",
    "        elif composition in valid_names:\n",
    "            db_name = method_dir / 'valid.db'\n",
    "        else:\n",
    "            raise ValueError()\n",
    "         \n",
    "        with connect(db_name) as db:\n",
    "            for atoms in page_to_atoms(page, method):\n",
    "                db.write(atoms, method=method, name=composition)"
   ]
  },
  {
   "cell_type": "code",
   "execution_count": null,
   "id": "189774e7-45ff-4ef2-957e-4223165d4ff6",
   "metadata": {},
   "outputs": [],
   "source": []
  }
 ],
 "metadata": {
  "kernelspec": {
   "display_name": "Python 3 (ipykernel)",
   "language": "python",
   "name": "python3"
  },
  "language_info": {
   "codemirror_mode": {
    "name": "ipython",
    "version": 3
   },
   "file_extension": ".py",
   "mimetype": "text/x-python",
   "name": "python",
   "nbconvert_exporter": "python",
   "pygments_lexer": "ipython3",
   "version": "3.10.8"
  }
 },
 "nbformat": 4,
 "nbformat_minor": 5
}
