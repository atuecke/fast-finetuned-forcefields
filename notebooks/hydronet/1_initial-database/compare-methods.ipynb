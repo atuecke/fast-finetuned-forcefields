{
 "cells": [
  {
   "cell_type": "markdown",
   "id": "0d0e38b7-5e8e-4464-a7fb-a776d91083c4",
   "metadata": {},
   "source": [
    "# Compare Energies with Different Methods\n",
    "We have a database computed with TTM, DFT and MP2. Let's see how they compare"
   ]
  },
  {
   "cell_type": "code",
   "execution_count": 1,
   "id": "1f0badd1-a203-4c05-ae50-6ef41149073a",
   "metadata": {
    "execution": {
     "iopub.execute_input": "2023-06-29T13:03:34.148890Z",
     "iopub.status.busy": "2023-06-29T13:03:34.148546Z",
     "iopub.status.idle": "2023-06-29T13:03:37.902043Z",
     "shell.execute_reply": "2023-06-29T13:03:37.901328Z"
    }
   },
   "outputs": [],
   "source": [
    "%matplotlib inline\n",
    "from matplotlib import pyplot as plt\n",
    "from collections import defaultdict\n",
    "from ase.db import connect\n",
    "from ase.io.xyz import simple_write_xyz\n",
    "from ase import units\n",
    "from io import StringIO\n",
    "import pandas as pd\n",
    "import numpy as np"
   ]
  },
  {
   "cell_type": "code",
   "execution_count": 2,
   "id": "1d11c8e7-b7d2-4292-b89b-a724b93ab6f9",
   "metadata": {
    "execution": {
     "iopub.execute_input": "2023-06-29T13:03:37.905166Z",
     "iopub.status.busy": "2023-06-29T13:03:37.904896Z",
     "iopub.status.idle": "2023-06-29T13:03:37.909834Z",
     "shell.execute_reply": "2023-06-29T13:03:37.909349Z"
    }
   },
   "outputs": [
    {
     "data": {
      "text/plain": [
       "<function ase.io.xyz.write_xyz(fileobj, images, comment='', fmt='%22.15f')>"
      ]
     },
     "execution_count": 2,
     "metadata": {},
     "output_type": "execute_result"
    }
   ],
   "source": [
    "simple_write_xyz"
   ]
  },
  {
   "cell_type": "markdown",
   "id": "4b26f20b-3413-48ab-9a02-e8ceba6ea754",
   "metadata": {},
   "source": [
    "## Load in the Data\n",
    "Get the data from the different databases, combine them into a single dataframe"
   ]
  },
  {
   "cell_type": "code",
   "execution_count": 3,
   "id": "6ce7eb98-c67b-4a09-bb4b-7cf39e9095c4",
   "metadata": {
    "execution": {
     "iopub.execute_input": "2023-06-29T13:03:37.911979Z",
     "iopub.status.busy": "2023-06-29T13:03:37.911794Z",
     "iopub.status.idle": "2023-06-29T13:03:37.917991Z",
     "shell.execute_reply": "2023-06-29T13:03:37.917486Z"
    }
   },
   "outputs": [],
   "source": [
    "def load_database_to_pandas(path: str, name: str) -> pd.DataFrame:\n",
    "    \"\"\"Read an ASE database to a Pandas dataframe\n",
    "    \n",
    "    Args:\n",
    "        path: Path to the ASE databases\n",
    "    Returns:\n",
    "        Dataframe with the filename as the key\n",
    "    \"\"\"\n",
    "    with connect(path) as db:\n",
    "        results = defaultdict(list)\n",
    "        for row in db.select(\"\"):\n",
    "            if 'method' in row:\n",
    "                method = f'{row[\"method\"]}//{row[\"basis\"]}'\n",
    "            elif 'basis' in row:\n",
    "                method = f'{name}//{row[\"basis\"]}'\n",
    "            else: \n",
    "                method = name\n",
    "                \n",
    "            \n",
    "            xyz_fp = StringIO()\n",
    "            simple_write_xyz(xyz_fp, [row.toatoms()])\n",
    "                \n",
    "            results[method].append({'filename': row['filename'],\n",
    "                                    'xyz': xyz_fp.getvalue(),\n",
    "                                    'n_waters': int(row.natoms // 3),\n",
    "                                    f'runtime_{method}': row['runtime'],\n",
    "                                    f'energy_{method}': row['energy'],\n",
    "                                    f'energy_per_water_{method}': row['energy'] / int(row.natoms) * 3})\n",
    "    \n",
    "    # Turn them into dataframes\n",
    "    data = pd.concat([\n",
    "        pd.DataFrame(v).set_index('filename') for v in results.values()\n",
    "    ], axis=1)\n",
    "    return data"
   ]
  },
  {
   "cell_type": "markdown",
   "id": "541f58d0-f301-46f2-bd81-4ed2045812bd",
   "metadata": {},
   "source": [
    "Drop off the hydrodb avtz energies"
   ]
  },
  {
   "cell_type": "code",
   "execution_count": 4,
   "id": "a1c457d4-3838-4963-a78e-0743c75a265f",
   "metadata": {
    "execution": {
     "iopub.execute_input": "2023-06-29T13:03:37.920320Z",
     "iopub.status.busy": "2023-06-29T13:03:37.920094Z",
     "iopub.status.idle": "2023-06-29T13:03:41.064065Z",
     "shell.execute_reply": "2023-06-29T13:03:41.063372Z"
    }
   },
   "outputs": [],
   "source": [
    "data = [\n",
    "    load_database_to_pandas(path, name)\n",
    "    for path, name in [\n",
    "        ('initial-ttm.db', 'ttm'),\n",
    "        ('initial-psi4.db', 'dft'),\n",
    "        ('initial.db', 'mp2')\n",
    "    ]\n",
    "]\n",
    "data = pd.concat(data, axis=1)"
   ]
  },
  {
   "cell_type": "markdown",
   "id": "0432ba5f-8cc1-4ed3-8d09-efd56ff9ea30",
   "metadata": {},
   "source": [
    "Drop duplicate columns"
   ]
  },
  {
   "cell_type": "code",
   "execution_count": 5,
   "id": "40da54f9-29ca-4e22-92be-90fa8410d766",
   "metadata": {
    "execution": {
     "iopub.execute_input": "2023-06-29T13:03:41.067232Z",
     "iopub.status.busy": "2023-06-29T13:03:41.067020Z",
     "iopub.status.idle": "2023-06-29T13:03:41.071482Z",
     "shell.execute_reply": "2023-06-29T13:03:41.071001Z"
    }
   },
   "outputs": [],
   "source": [
    "data = data.loc[:,~data.columns.duplicated()].copy()"
   ]
  },
  {
   "cell_type": "code",
   "execution_count": 6,
   "id": "5bb53f90-c087-4c61-a830-0f66075ef3f3",
   "metadata": {
    "execution": {
     "iopub.execute_input": "2023-06-29T13:03:41.073720Z",
     "iopub.status.busy": "2023-06-29T13:03:41.073467Z",
     "iopub.status.idle": "2023-06-29T13:03:41.097151Z",
     "shell.execute_reply": "2023-06-29T13:03:41.096679Z"
    }
   },
   "outputs": [
    {
     "data": {
      "text/html": [
       "<div>\n",
       "<style scoped>\n",
       "    .dataframe tbody tr th:only-of-type {\n",
       "        vertical-align: middle;\n",
       "    }\n",
       "\n",
       "    .dataframe tbody tr th {\n",
       "        vertical-align: top;\n",
       "    }\n",
       "\n",
       "    .dataframe thead th {\n",
       "        text-align: right;\n",
       "    }\n",
       "</style>\n",
       "<table border=\"1\" class=\"dataframe\">\n",
       "  <thead>\n",
       "    <tr style=\"text-align: right;\">\n",
       "      <th></th>\n",
       "      <th>xyz</th>\n",
       "      <th>n_waters</th>\n",
       "      <th>runtime_ttm</th>\n",
       "      <th>energy_ttm</th>\n",
       "      <th>energy_per_water_ttm</th>\n",
       "      <th>runtime_pbe0-d3//aug-cc-pvdz</th>\n",
       "      <th>energy_pbe0-d3//aug-cc-pvdz</th>\n",
       "      <th>energy_per_water_pbe0-d3//aug-cc-pvdz</th>\n",
       "      <th>runtime_pbe0//aug-cc-pvdz</th>\n",
       "      <th>energy_pbe0//aug-cc-pvdz</th>\n",
       "      <th>energy_per_water_pbe0//aug-cc-pvdz</th>\n",
       "      <th>runtime_mp2//aug-cc-pvdz</th>\n",
       "      <th>energy_mp2//aug-cc-pvdz</th>\n",
       "      <th>energy_per_water_mp2//aug-cc-pvdz</th>\n",
       "      <th>runtime_mp2//aug-cc-pvtz</th>\n",
       "      <th>energy_mp2//aug-cc-pvtz</th>\n",
       "      <th>energy_per_water_mp2//aug-cc-pvtz</th>\n",
       "    </tr>\n",
       "    <tr>\n",
       "      <th>filename</th>\n",
       "      <th></th>\n",
       "      <th></th>\n",
       "      <th></th>\n",
       "      <th></th>\n",
       "      <th></th>\n",
       "      <th></th>\n",
       "      <th></th>\n",
       "      <th></th>\n",
       "      <th></th>\n",
       "      <th></th>\n",
       "      <th></th>\n",
       "      <th></th>\n",
       "      <th></th>\n",
       "      <th></th>\n",
       "      <th></th>\n",
       "      <th></th>\n",
       "      <th></th>\n",
       "    </tr>\n",
       "  </thead>\n",
       "  <tbody>\n",
       "    <tr>\n",
       "      <th>hydrodb_b09a9c.xyz</th>\n",
       "      <td>33\\n\\nO       2.267658576179596      1.9463707...</td>\n",
       "      <td>11</td>\n",
       "      <td>0.000952</td>\n",
       "      <td>-4.317942</td>\n",
       "      <td>-0.392540</td>\n",
       "      <td>135.526126</td>\n",
       "      <td>-22861.096468</td>\n",
       "      <td>-2078.281497</td>\n",
       "      <td>118.740917</td>\n",
       "      <td>-22860.546873</td>\n",
       "      <td>-2078.231534</td>\n",
       "      <td>731.741435</td>\n",
       "      <td>-22831.040891</td>\n",
       "      <td>-2075.549172</td>\n",
       "      <td>11718.070250</td>\n",
       "      <td>-22851.387537</td>\n",
       "      <td>-2077.398867</td>\n",
       "    </tr>\n",
       "    <tr>\n",
       "      <th>hydrodb_19306c.xyz</th>\n",
       "      <td>45\\n\\nO       2.272800839227977      1.4592290...</td>\n",
       "      <td>15</td>\n",
       "      <td>0.002468</td>\n",
       "      <td>-6.437979</td>\n",
       "      <td>-0.429199</td>\n",
       "      <td>243.111790</td>\n",
       "      <td>-31174.900830</td>\n",
       "      <td>-2078.326722</td>\n",
       "      <td>230.604889</td>\n",
       "      <td>-31174.064939</td>\n",
       "      <td>-2078.270996</td>\n",
       "      <td>1868.222484</td>\n",
       "      <td>-31133.868193</td>\n",
       "      <td>-2075.591213</td>\n",
       "      <td>NaN</td>\n",
       "      <td>NaN</td>\n",
       "      <td>NaN</td>\n",
       "    </tr>\n",
       "    <tr>\n",
       "      <th>hydrodb_2e6378.xyz</th>\n",
       "      <td>39\\n\\nO      -1.313802046079421      0.8735302...</td>\n",
       "      <td>13</td>\n",
       "      <td>0.001802</td>\n",
       "      <td>-5.313869</td>\n",
       "      <td>-0.408759</td>\n",
       "      <td>181.667849</td>\n",
       "      <td>-27017.892767</td>\n",
       "      <td>-2078.299444</td>\n",
       "      <td>165.599819</td>\n",
       "      <td>-27017.224435</td>\n",
       "      <td>-2078.248033</td>\n",
       "      <td>1151.305755</td>\n",
       "      <td>-26982.360610</td>\n",
       "      <td>-2075.566201</td>\n",
       "      <td>14121.422478</td>\n",
       "      <td>-27006.408247</td>\n",
       "      <td>-2077.416019</td>\n",
       "    </tr>\n",
       "    <tr>\n",
       "      <th>hydrodb_8f0fe1.xyz</th>\n",
       "      <td>30\\n\\nO       1.335199862023815      1.6184582...</td>\n",
       "      <td>10</td>\n",
       "      <td>0.001045</td>\n",
       "      <td>-3.704616</td>\n",
       "      <td>-0.370462</td>\n",
       "      <td>100.233233</td>\n",
       "      <td>-20782.646887</td>\n",
       "      <td>-2078.264689</td>\n",
       "      <td>66.421736</td>\n",
       "      <td>-20782.215710</td>\n",
       "      <td>-2078.221571</td>\n",
       "      <td>532.396499</td>\n",
       "      <td>-20755.347525</td>\n",
       "      <td>-2075.534753</td>\n",
       "      <td>5737.389443</td>\n",
       "      <td>-20773.853003</td>\n",
       "      <td>-2077.385300</td>\n",
       "    </tr>\n",
       "    <tr>\n",
       "      <th>mctbp_147.xyz</th>\n",
       "      <td>9\\n\\nO       0.190866174783793     -1.59656170...</td>\n",
       "      <td>3</td>\n",
       "      <td>0.000156</td>\n",
       "      <td>-0.211835</td>\n",
       "      <td>-0.070612</td>\n",
       "      <td>9.088620</td>\n",
       "      <td>-6233.402780</td>\n",
       "      <td>-2077.800927</td>\n",
       "      <td>8.258589</td>\n",
       "      <td>-6233.344772</td>\n",
       "      <td>-2077.781591</td>\n",
       "      <td>209.804522</td>\n",
       "      <td>-6225.171037</td>\n",
       "      <td>-2075.057012</td>\n",
       "      <td>316.685000</td>\n",
       "      <td>-6230.780832</td>\n",
       "      <td>-2076.926944</td>\n",
       "    </tr>\n",
       "  </tbody>\n",
       "</table>\n",
       "</div>"
      ],
      "text/plain": [
       "                                                                  xyz  \\\n",
       "filename                                                                \n",
       "hydrodb_b09a9c.xyz  33\\n\\nO       2.267658576179596      1.9463707...   \n",
       "hydrodb_19306c.xyz  45\\n\\nO       2.272800839227977      1.4592290...   \n",
       "hydrodb_2e6378.xyz  39\\n\\nO      -1.313802046079421      0.8735302...   \n",
       "hydrodb_8f0fe1.xyz  30\\n\\nO       1.335199862023815      1.6184582...   \n",
       "mctbp_147.xyz       9\\n\\nO       0.190866174783793     -1.59656170...   \n",
       "\n",
       "                    n_waters  runtime_ttm  energy_ttm  energy_per_water_ttm  \\\n",
       "filename                                                                      \n",
       "hydrodb_b09a9c.xyz        11     0.000952   -4.317942             -0.392540   \n",
       "hydrodb_19306c.xyz        15     0.002468   -6.437979             -0.429199   \n",
       "hydrodb_2e6378.xyz        13     0.001802   -5.313869             -0.408759   \n",
       "hydrodb_8f0fe1.xyz        10     0.001045   -3.704616             -0.370462   \n",
       "mctbp_147.xyz              3     0.000156   -0.211835             -0.070612   \n",
       "\n",
       "                    runtime_pbe0-d3//aug-cc-pvdz  energy_pbe0-d3//aug-cc-pvdz  \\\n",
       "filename                                                                        \n",
       "hydrodb_b09a9c.xyz                    135.526126                -22861.096468   \n",
       "hydrodb_19306c.xyz                    243.111790                -31174.900830   \n",
       "hydrodb_2e6378.xyz                    181.667849                -27017.892767   \n",
       "hydrodb_8f0fe1.xyz                    100.233233                -20782.646887   \n",
       "mctbp_147.xyz                           9.088620                 -6233.402780   \n",
       "\n",
       "                    energy_per_water_pbe0-d3//aug-cc-pvdz  \\\n",
       "filename                                                    \n",
       "hydrodb_b09a9c.xyz                           -2078.281497   \n",
       "hydrodb_19306c.xyz                           -2078.326722   \n",
       "hydrodb_2e6378.xyz                           -2078.299444   \n",
       "hydrodb_8f0fe1.xyz                           -2078.264689   \n",
       "mctbp_147.xyz                                -2077.800927   \n",
       "\n",
       "                    runtime_pbe0//aug-cc-pvdz  energy_pbe0//aug-cc-pvdz  \\\n",
       "filename                                                                  \n",
       "hydrodb_b09a9c.xyz                 118.740917             -22860.546873   \n",
       "hydrodb_19306c.xyz                 230.604889             -31174.064939   \n",
       "hydrodb_2e6378.xyz                 165.599819             -27017.224435   \n",
       "hydrodb_8f0fe1.xyz                  66.421736             -20782.215710   \n",
       "mctbp_147.xyz                        8.258589              -6233.344772   \n",
       "\n",
       "                    energy_per_water_pbe0//aug-cc-pvdz  \\\n",
       "filename                                                 \n",
       "hydrodb_b09a9c.xyz                        -2078.231534   \n",
       "hydrodb_19306c.xyz                        -2078.270996   \n",
       "hydrodb_2e6378.xyz                        -2078.248033   \n",
       "hydrodb_8f0fe1.xyz                        -2078.221571   \n",
       "mctbp_147.xyz                             -2077.781591   \n",
       "\n",
       "                    runtime_mp2//aug-cc-pvdz  energy_mp2//aug-cc-pvdz  \\\n",
       "filename                                                                \n",
       "hydrodb_b09a9c.xyz                731.741435            -22831.040891   \n",
       "hydrodb_19306c.xyz               1868.222484            -31133.868193   \n",
       "hydrodb_2e6378.xyz               1151.305755            -26982.360610   \n",
       "hydrodb_8f0fe1.xyz                532.396499            -20755.347525   \n",
       "mctbp_147.xyz                     209.804522             -6225.171037   \n",
       "\n",
       "                    energy_per_water_mp2//aug-cc-pvdz  \\\n",
       "filename                                                \n",
       "hydrodb_b09a9c.xyz                       -2075.549172   \n",
       "hydrodb_19306c.xyz                       -2075.591213   \n",
       "hydrodb_2e6378.xyz                       -2075.566201   \n",
       "hydrodb_8f0fe1.xyz                       -2075.534753   \n",
       "mctbp_147.xyz                            -2075.057012   \n",
       "\n",
       "                    runtime_mp2//aug-cc-pvtz  energy_mp2//aug-cc-pvtz  \\\n",
       "filename                                                                \n",
       "hydrodb_b09a9c.xyz              11718.070250            -22851.387537   \n",
       "hydrodb_19306c.xyz                       NaN                      NaN   \n",
       "hydrodb_2e6378.xyz              14121.422478            -27006.408247   \n",
       "hydrodb_8f0fe1.xyz               5737.389443            -20773.853003   \n",
       "mctbp_147.xyz                     316.685000             -6230.780832   \n",
       "\n",
       "                    energy_per_water_mp2//aug-cc-pvtz  \n",
       "filename                                               \n",
       "hydrodb_b09a9c.xyz                       -2077.398867  \n",
       "hydrodb_19306c.xyz                                NaN  \n",
       "hydrodb_2e6378.xyz                       -2077.416019  \n",
       "hydrodb_8f0fe1.xyz                       -2077.385300  \n",
       "mctbp_147.xyz                            -2076.926944  "
      ]
     },
     "execution_count": 6,
     "metadata": {},
     "output_type": "execute_result"
    }
   ],
   "source": [
    "data.head()"
   ]
  },
  {
   "cell_type": "markdown",
   "id": "0ce17791-eaf6-4d3a-ad2c-ee04b345b0b4",
   "metadata": {},
   "source": [
    "Normalize by the energy above the most-stable cluster"
   ]
  },
  {
   "cell_type": "code",
   "execution_count": 7,
   "id": "aceb93c9-d5b8-4ec0-b05c-915455ab53ec",
   "metadata": {
    "execution": {
     "iopub.execute_input": "2023-06-29T13:03:41.099199Z",
     "iopub.status.busy": "2023-06-29T13:03:41.098943Z",
     "iopub.status.idle": "2023-06-29T13:03:41.102355Z",
     "shell.execute_reply": "2023-06-29T13:03:41.101851Z"
    }
   },
   "outputs": [
    {
     "name": "stdout",
     "output_type": "stream",
     "text": [
      "Using hydrodb_10a43d.xyz as a reference\n"
     ]
    }
   ],
   "source": [
    "lowest_energy = data['energy_per_water_mp2//aug-cc-pvtz'].idxmin()\n",
    "print(f'Using {lowest_energy} as a reference')"
   ]
  },
  {
   "cell_type": "code",
   "execution_count": 8,
   "id": "39fafeeb-c749-4e01-aff2-dbb360ce2e52",
   "metadata": {
    "execution": {
     "iopub.execute_input": "2023-06-29T13:03:41.104298Z",
     "iopub.status.busy": "2023-06-29T13:03:41.104067Z",
     "iopub.status.idle": "2023-06-29T13:03:41.106781Z",
     "shell.execute_reply": "2023-06-29T13:03:41.106298Z"
    }
   },
   "outputs": [],
   "source": [
    "names = [c[17:] for c in data.columns if c.startswith('energy_per_water')]"
   ]
  },
  {
   "cell_type": "code",
   "execution_count": 9,
   "id": "f333cdc8-a93e-4488-8cce-681994b8cf79",
   "metadata": {
    "execution": {
     "iopub.execute_input": "2023-06-29T13:03:41.108681Z",
     "iopub.status.busy": "2023-06-29T13:03:41.108439Z",
     "iopub.status.idle": "2023-06-29T13:03:41.113632Z",
     "shell.execute_reply": "2023-06-29T13:03:41.113159Z"
    }
   },
   "outputs": [
    {
     "data": {
      "text/plain": [
       "energy_ttm                     1720\n",
       "energy_pbe0-d3//aug-cc-pvdz    1720\n",
       "energy_pbe0//aug-cc-pvdz       1720\n",
       "energy_mp2//aug-cc-pvdz        1720\n",
       "energy_mp2//aug-cc-pvtz         789\n",
       "dtype: int64"
      ]
     },
     "execution_count": 9,
     "metadata": {},
     "output_type": "execute_result"
    }
   ],
   "source": [
    "data[[f'energy_{n}' for n in names]].count()"
   ]
  },
  {
   "cell_type": "code",
   "execution_count": 10,
   "id": "5087ccaf-df94-4203-a1c7-cbaf5c0c9b1a",
   "metadata": {
    "execution": {
     "iopub.execute_input": "2023-06-29T13:03:41.115493Z",
     "iopub.status.busy": "2023-06-29T13:03:41.115234Z",
     "iopub.status.idle": "2023-06-29T13:03:41.121544Z",
     "shell.execute_reply": "2023-06-29T13:03:41.121035Z"
    }
   },
   "outputs": [
    {
     "name": "stdout",
     "output_type": "stream",
     "text": [
      "Reference energy for ttm: -0.44 eV/water\n",
      "Reference energy for pbe0-d3//aug-cc-pvdz: -2078.35 eV/water\n",
      "Reference energy for pbe0//aug-cc-pvdz: -2078.29 eV/water\n",
      "Reference energy for mp2//aug-cc-pvdz: -2075.61 eV/water\n",
      "Reference energy for mp2//aug-cc-pvtz: -2077.46 eV/water\n"
     ]
    }
   ],
   "source": [
    "for name in names:\n",
    "    ref_energy = data[f'energy_per_water_{name}'][lowest_energy]\n",
    "    data[f'energy_normed_{name}'] = data[f'energy_per_water_{name}'] - ref_energy\n",
    "    data[f'energy_normed_{name}'] /= units.kcal / units.mol\n",
    "    print(f'Reference energy for {name}: {ref_energy:.2f} eV/water')"
   ]
  },
  {
   "cell_type": "code",
   "execution_count": 11,
   "id": "69d458ba-7aff-4f19-a613-4e6300896767",
   "metadata": {
    "execution": {
     "iopub.execute_input": "2023-06-29T13:03:41.123461Z",
     "iopub.status.busy": "2023-06-29T13:03:41.123217Z",
     "iopub.status.idle": "2023-06-29T13:03:41.132261Z",
     "shell.execute_reply": "2023-06-29T13:03:41.131782Z"
    }
   },
   "outputs": [
    {
     "data": {
      "text/html": [
       "<div>\n",
       "<style scoped>\n",
       "    .dataframe tbody tr th:only-of-type {\n",
       "        vertical-align: middle;\n",
       "    }\n",
       "\n",
       "    .dataframe tbody tr th {\n",
       "        vertical-align: top;\n",
       "    }\n",
       "\n",
       "    .dataframe thead th {\n",
       "        text-align: right;\n",
       "    }\n",
       "</style>\n",
       "<table border=\"1\" class=\"dataframe\">\n",
       "  <thead>\n",
       "    <tr style=\"text-align: right;\">\n",
       "      <th></th>\n",
       "      <th>energy_normed_ttm</th>\n",
       "      <th>energy_normed_pbe0-d3//aug-cc-pvdz</th>\n",
       "      <th>energy_normed_pbe0//aug-cc-pvdz</th>\n",
       "      <th>energy_normed_mp2//aug-cc-pvdz</th>\n",
       "      <th>energy_normed_mp2//aug-cc-pvtz</th>\n",
       "    </tr>\n",
       "    <tr>\n",
       "      <th>filename</th>\n",
       "      <th></th>\n",
       "      <th></th>\n",
       "      <th></th>\n",
       "      <th></th>\n",
       "      <th></th>\n",
       "    </tr>\n",
       "  </thead>\n",
       "  <tbody>\n",
       "    <tr>\n",
       "      <th>min_1930862.xyz</th>\n",
       "      <td>-0.692863</td>\n",
       "      <td>-0.729530</td>\n",
       "      <td>-0.563008</td>\n",
       "      <td>-0.704033</td>\n",
       "      <td>NaN</td>\n",
       "    </tr>\n",
       "    <tr>\n",
       "      <th>min_2249639.xyz</th>\n",
       "      <td>-0.726079</td>\n",
       "      <td>-0.737443</td>\n",
       "      <td>-0.609184</td>\n",
       "      <td>-0.692399</td>\n",
       "      <td>NaN</td>\n",
       "    </tr>\n",
       "    <tr>\n",
       "      <th>min_1933997.xyz</th>\n",
       "      <td>-0.670709</td>\n",
       "      <td>-0.689152</td>\n",
       "      <td>-0.588272</td>\n",
       "      <td>-0.653644</td>\n",
       "      <td>NaN</td>\n",
       "    </tr>\n",
       "    <tr>\n",
       "      <th>min_1932988.xyz</th>\n",
       "      <td>-0.676280</td>\n",
       "      <td>-0.659440</td>\n",
       "      <td>-0.435840</td>\n",
       "      <td>-0.647172</td>\n",
       "      <td>NaN</td>\n",
       "    </tr>\n",
       "    <tr>\n",
       "      <th>min_1943025.xyz</th>\n",
       "      <td>-0.637412</td>\n",
       "      <td>-0.647561</td>\n",
       "      <td>-0.481419</td>\n",
       "      <td>-0.629709</td>\n",
       "      <td>NaN</td>\n",
       "    </tr>\n",
       "    <tr>\n",
       "      <th>min_1937085.xyz</th>\n",
       "      <td>-0.656781</td>\n",
       "      <td>-0.623649</td>\n",
       "      <td>-0.475223</td>\n",
       "      <td>-0.615653</td>\n",
       "      <td>NaN</td>\n",
       "    </tr>\n",
       "    <tr>\n",
       "      <th>min_1948890.xyz</th>\n",
       "      <td>-0.622349</td>\n",
       "      <td>-0.626870</td>\n",
       "      <td>-0.442972</td>\n",
       "      <td>-0.605721</td>\n",
       "      <td>NaN</td>\n",
       "    </tr>\n",
       "    <tr>\n",
       "      <th>min_2343163.xyz</th>\n",
       "      <td>-0.572240</td>\n",
       "      <td>-0.587738</td>\n",
       "      <td>-0.423612</td>\n",
       "      <td>-0.602338</td>\n",
       "      <td>NaN</td>\n",
       "    </tr>\n",
       "    <tr>\n",
       "      <th>min_1982257.xyz</th>\n",
       "      <td>-0.558518</td>\n",
       "      <td>-0.627011</td>\n",
       "      <td>-0.520977</td>\n",
       "      <td>-0.595227</td>\n",
       "      <td>NaN</td>\n",
       "    </tr>\n",
       "    <tr>\n",
       "      <th>min_2288973.xyz</th>\n",
       "      <td>-0.619500</td>\n",
       "      <td>-0.579677</td>\n",
       "      <td>-0.406614</td>\n",
       "      <td>-0.582255</td>\n",
       "      <td>NaN</td>\n",
       "    </tr>\n",
       "    <tr>\n",
       "      <th>min_2278464.xyz</th>\n",
       "      <td>-0.633185</td>\n",
       "      <td>-0.606278</td>\n",
       "      <td>-0.360479</td>\n",
       "      <td>-0.580889</td>\n",
       "      <td>NaN</td>\n",
       "    </tr>\n",
       "    <tr>\n",
       "      <th>min_1947854.xyz</th>\n",
       "      <td>-0.624796</td>\n",
       "      <td>-0.563426</td>\n",
       "      <td>-0.348308</td>\n",
       "      <td>-0.570630</td>\n",
       "      <td>NaN</td>\n",
       "    </tr>\n",
       "    <tr>\n",
       "      <th>min_2324410.xyz</th>\n",
       "      <td>-0.586069</td>\n",
       "      <td>-0.587394</td>\n",
       "      <td>-0.422365</td>\n",
       "      <td>-0.569310</td>\n",
       "      <td>NaN</td>\n",
       "    </tr>\n",
       "    <tr>\n",
       "      <th>min_2296651.xyz</th>\n",
       "      <td>-0.610858</td>\n",
       "      <td>-0.556223</td>\n",
       "      <td>-0.347794</td>\n",
       "      <td>-0.565182</td>\n",
       "      <td>NaN</td>\n",
       "    </tr>\n",
       "    <tr>\n",
       "      <th>min_2274474.xyz</th>\n",
       "      <td>-0.639200</td>\n",
       "      <td>-0.576198</td>\n",
       "      <td>-0.293811</td>\n",
       "      <td>-0.559287</td>\n",
       "      <td>NaN</td>\n",
       "    </tr>\n",
       "  </tbody>\n",
       "</table>\n",
       "</div>"
      ],
      "text/plain": [
       "                 energy_normed_ttm  energy_normed_pbe0-d3//aug-cc-pvdz  \\\n",
       "filename                                                                 \n",
       "min_1930862.xyz          -0.692863                           -0.729530   \n",
       "min_2249639.xyz          -0.726079                           -0.737443   \n",
       "min_1933997.xyz          -0.670709                           -0.689152   \n",
       "min_1932988.xyz          -0.676280                           -0.659440   \n",
       "min_1943025.xyz          -0.637412                           -0.647561   \n",
       "min_1937085.xyz          -0.656781                           -0.623649   \n",
       "min_1948890.xyz          -0.622349                           -0.626870   \n",
       "min_2343163.xyz          -0.572240                           -0.587738   \n",
       "min_1982257.xyz          -0.558518                           -0.627011   \n",
       "min_2288973.xyz          -0.619500                           -0.579677   \n",
       "min_2278464.xyz          -0.633185                           -0.606278   \n",
       "min_1947854.xyz          -0.624796                           -0.563426   \n",
       "min_2324410.xyz          -0.586069                           -0.587394   \n",
       "min_2296651.xyz          -0.610858                           -0.556223   \n",
       "min_2274474.xyz          -0.639200                           -0.576198   \n",
       "\n",
       "                 energy_normed_pbe0//aug-cc-pvdz  \\\n",
       "filename                                           \n",
       "min_1930862.xyz                        -0.563008   \n",
       "min_2249639.xyz                        -0.609184   \n",
       "min_1933997.xyz                        -0.588272   \n",
       "min_1932988.xyz                        -0.435840   \n",
       "min_1943025.xyz                        -0.481419   \n",
       "min_1937085.xyz                        -0.475223   \n",
       "min_1948890.xyz                        -0.442972   \n",
       "min_2343163.xyz                        -0.423612   \n",
       "min_1982257.xyz                        -0.520977   \n",
       "min_2288973.xyz                        -0.406614   \n",
       "min_2278464.xyz                        -0.360479   \n",
       "min_1947854.xyz                        -0.348308   \n",
       "min_2324410.xyz                        -0.422365   \n",
       "min_2296651.xyz                        -0.347794   \n",
       "min_2274474.xyz                        -0.293811   \n",
       "\n",
       "                 energy_normed_mp2//aug-cc-pvdz  \\\n",
       "filename                                          \n",
       "min_1930862.xyz                       -0.704033   \n",
       "min_2249639.xyz                       -0.692399   \n",
       "min_1933997.xyz                       -0.653644   \n",
       "min_1932988.xyz                       -0.647172   \n",
       "min_1943025.xyz                       -0.629709   \n",
       "min_1937085.xyz                       -0.615653   \n",
       "min_1948890.xyz                       -0.605721   \n",
       "min_2343163.xyz                       -0.602338   \n",
       "min_1982257.xyz                       -0.595227   \n",
       "min_2288973.xyz                       -0.582255   \n",
       "min_2278464.xyz                       -0.580889   \n",
       "min_1947854.xyz                       -0.570630   \n",
       "min_2324410.xyz                       -0.569310   \n",
       "min_2296651.xyz                       -0.565182   \n",
       "min_2274474.xyz                       -0.559287   \n",
       "\n",
       "                 energy_normed_mp2//aug-cc-pvtz  \n",
       "filename                                         \n",
       "min_1930862.xyz                             NaN  \n",
       "min_2249639.xyz                             NaN  \n",
       "min_1933997.xyz                             NaN  \n",
       "min_1932988.xyz                             NaN  \n",
       "min_1943025.xyz                             NaN  \n",
       "min_1937085.xyz                             NaN  \n",
       "min_1948890.xyz                             NaN  \n",
       "min_2343163.xyz                             NaN  \n",
       "min_1982257.xyz                             NaN  \n",
       "min_2288973.xyz                             NaN  \n",
       "min_2278464.xyz                             NaN  \n",
       "min_1947854.xyz                             NaN  \n",
       "min_2324410.xyz                             NaN  \n",
       "min_2296651.xyz                             NaN  \n",
       "min_2274474.xyz                             NaN  "
      ]
     },
     "execution_count": 11,
     "metadata": {},
     "output_type": "execute_result"
    }
   ],
   "source": [
    "data[[c for c in data.columns if 'normed' in c]].sort_values('energy_normed_mp2//aug-cc-pvdz').head(15)"
   ]
  },
  {
   "cell_type": "code",
   "execution_count": 12,
   "id": "b628ba37-3bd7-443f-ad6d-eaaf67722497",
   "metadata": {
    "execution": {
     "iopub.execute_input": "2023-06-29T13:03:41.134112Z",
     "iopub.status.busy": "2023-06-29T13:03:41.133855Z",
     "iopub.status.idle": "2023-06-29T13:03:41.138756Z",
     "shell.execute_reply": "2023-06-29T13:03:41.138277Z"
    }
   },
   "outputs": [
    {
     "data": {
      "text/plain": [
       "n_waters\n",
       "3       273.970866\n",
       "4       418.773193\n",
       "5       670.864447\n",
       "6      1599.392593\n",
       "7      2399.272860\n",
       "8      3153.368628\n",
       "9      4257.508402\n",
       "10     5763.887559\n",
       "11     8308.246604\n",
       "12     9197.879248\n",
       "13    13129.926815\n",
       "14    15744.384384\n",
       "15    65489.578699\n",
       "16     5601.300032\n",
       "17             NaN\n",
       "18             NaN\n",
       "19             NaN\n",
       "20             NaN\n",
       "21             NaN\n",
       "22             NaN\n",
       "23             NaN\n",
       "24             NaN\n",
       "25             NaN\n",
       "Name: runtime_mp2//aug-cc-pvtz, dtype: float64"
      ]
     },
     "execution_count": 12,
     "metadata": {},
     "output_type": "execute_result"
    }
   ],
   "source": [
    "data.groupby('n_waters')['runtime_mp2//aug-cc-pvtz'].median()"
   ]
  },
  {
   "cell_type": "markdown",
   "id": "8d349478-fa23-4172-9410-2086b90ea835",
   "metadata": {},
   "source": [
    "## Plot\n",
    "Show how different things are between TTM and DFT"
   ]
  },
  {
   "cell_type": "code",
   "execution_count": 13,
   "id": "077151f7-0ffd-4908-9cfc-0cae3b9e3418",
   "metadata": {
    "execution": {
     "iopub.execute_input": "2023-06-29T13:03:41.140588Z",
     "iopub.status.busy": "2023-06-29T13:03:41.140345Z",
     "iopub.status.idle": "2023-06-29T13:03:42.113332Z",
     "shell.execute_reply": "2023-06-29T13:03:42.112670Z"
    }
   },
   "outputs": [
    {
     "data": {
      "image/png": "[encoded data removed]",
      "text/plain": [
       "<Figure size 1050x300 with 4 Axes>"
      ]
     },
     "metadata": {},
     "output_type": "display_data"
    }
   ],
   "source": [
    "fig, axs = plt.subplots(1, len(names) - 1, figsize=(10.5, 3.), sharey=True)\n",
    "\n",
    "not_avtz = [n for n in names if 'mp2//aug-cc-pvtz' not in n]\n",
    "for name, ax in zip(not_avtz, axs):\n",
    "    col = f'energy_normed_{name}'\n",
    "    ax.scatter(data[col], data['energy_normed_mp2//aug-cc-pvtz'], s=2)\n",
    "    err = (data[col] - data['energy_normed_mp2//aug-cc-pvtz']).abs()\n",
    "    count = err.count()\n",
    "    mae = err.mean()\n",
    "    rmse = np.sqrt((err ** 2).mean())\n",
    "    ax.text(0.02, 0.85, f'RMSE: {rmse:.3f} kcal/mol/water\\nN={count}', transform=ax.transAxes)\n",
    "    ax.set_xlabel(f'Energy (kcal/mol/water)')\n",
    "    ax.set_title(name)\n",
    "    \n",
    "    ax.set_xlim([-3, data['energy_normed_mp2//aug-cc-pvtz'].max() + 2])\n",
    "    ax.set_ylim(ax.get_xlim())\n",
    "    ax.plot(ax.get_xlim(), ax.get_xlim(), 'k--')\n",
    "\n",
    "# Set the xlim\n",
    "axs[0].set_ylabel('Energy, mp2//avtz (kcal/mol)')\n",
    "\n",
    "fig.tight_layout()\n",
    "fig.savefig('figures/comparison-to-mp2-avtz.png', dpi=320)"
   ]
  },
  {
   "cell_type": "markdown",
   "id": "7607dcb3-f716-46b2-83d1-f5a53e00585a",
   "metadata": {},
   "source": [
    "Save the data for others"
   ]
  },
  {
   "cell_type": "code",
   "execution_count": 14,
   "id": "4c208095-c4f6-48c4-83ae-212caf2e0d1f",
   "metadata": {
    "execution": {
     "iopub.execute_input": "2023-06-29T13:03:42.115893Z",
     "iopub.status.busy": "2023-06-29T13:03:42.115570Z",
     "iopub.status.idle": "2023-06-29T13:03:43.400920Z",
     "shell.execute_reply": "2023-06-29T13:03:43.400191Z"
    }
   },
   "outputs": [],
   "source": [
    "data.to_csv('comparison-water-clusters.csv')"
   ]
  },
  {
   "cell_type": "code",
   "execution_count": null,
   "id": "a76472a6-0c37-4d49-8faa-f6438c31253a",
   "metadata": {},
   "outputs": [],
   "source": []
  }
 ],
 "metadata": {
  "kernelspec": {
   "display_name": "fff",
   "language": "python",
   "name": "fff"
  },
  "language_info": {
   "codemirror_mode": {
    "name": "ipython",
    "version": 3
   },
   "file_extension": ".py",
   "mimetype": "text/x-python",
   "name": "python",
   "nbconvert_exporter": "python",
   "pygments_lexer": "ipython3",
   "version": "3.10.11"
  }
 },
 "nbformat": 4,
 "nbformat_minor": 5
}
