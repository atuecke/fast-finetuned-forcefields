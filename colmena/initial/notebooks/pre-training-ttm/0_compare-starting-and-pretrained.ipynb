{
 "cells": [
  {
   "cell_type": "markdown",
   "id": "03f2eced-0e6c-494d-9c14-b6a96f273b01",
   "metadata": {},
   "source": [
    "# Evaluate Effect of Starting Model\n",
    "Compare a model which started from our original TTM weights, and another which was trained using 25000 more TTM entries.\n",
    "We'd like to know if training using additional TTM entries reduces the need for DFT data to acheive a target accuracy."
   ]
  },
  {
   "cell_type": "code",
   "execution_count": 1,
   "id": "42ba3b25-3214-4685-9acc-23ea8cfcb0c3",
   "metadata": {
    "tags": []
   },
   "outputs": [],
   "source": [
    "%matplotlib inline\n",
    "from matplotlib import pyplot as plt\n",
    "from pathlib import Path\n",
    "import pandas as pd\n",
    "import utils\n",
    "import json"
   ]
  },
  {
   "cell_type": "markdown",
   "id": "6d60d163-8a7b-453d-9ae0-500ffb0baa18",
   "metadata": {},
   "source": [
    "## Load in Examples\n",
    "We only vary the sampling method, keeping the number of structures produced and the target error constant.\n",
    "We selected a target error of 2.5 meV/atom because it gave us a model that performed well against a hold-out set and produced better structure when used for MCTBP."
   ]
  },
  {
   "cell_type": "code",
   "execution_count": 2,
   "id": "fd1f7c63-82b9-4ccb-9311-fb2b6968e57a",
   "metadata": {
    "tags": []
   },
   "outputs": [
    {
     "name": "stdout",
     "output_type": "stream",
     "text": [
      "Found 4 runs\n"
     ]
    }
   ],
   "source": [
    "runs = list(Path('../prod-runs/').glob('dft_md*'))\n",
    "print(f'Found {len(runs)} runs')"
   ]
  },
  {
   "cell_type": "markdown",
   "id": "5229b173-e450-4a7a-b39e-e00f37c3c458",
   "metadata": {},
   "source": [
    "Make sure training parameters for the network were the same"
   ]
  },
  {
   "cell_type": "code",
   "execution_count": 3,
   "id": "43b35fd5-ffee-4941-be5e-8fa23636f17c",
   "metadata": {
    "tags": []
   },
   "outputs": [],
   "source": [
    "params = json.loads((runs[0] / 'final-model' / 'params.json').read_text())\n",
    "params.pop('run_dir')\n",
    "for run in runs:\n",
    "    duplicates = json.loads((run / 'duplicates.json').read_text())\n",
    "    for dup in duplicates:\n",
    "        dup = Path(dup)\n",
    "        my_params = json.loads((dup / 'final-model' / 'params.json').read_text())\n",
    "        my_params.pop('run_dir')\n",
    "        assert my_params == params, f'{dup} is different than {runs[0]}. {params} != {my_params}'"
   ]
  },
  {
   "cell_type": "markdown",
   "id": "6d8b8b58-1221-4ec5-b645-35deb73f3782",
   "metadata": {},
   "source": [
    "## Compare Against Hold-out Set\n",
    "Using the same procedure as last notebook"
   ]
  },
  {
   "cell_type": "code",
   "execution_count": 4,
   "id": "80547419-82b9-40b0-8732-e509cfa03732",
   "metadata": {
    "tags": []
   },
   "outputs": [],
   "source": [
    "data = utils.assess_against_holdout(runs, ['starting_model', 'num_to_run'])\n",
    "data['model_name'] = data['starting_model'].apply(lambda x: 'Refined' if 'dft_' in x else 'Initial')"
   ]
  },
  {
   "cell_type": "markdown",
   "id": "894eeeac-c040-4664-acaf-e216a752a3cd",
   "metadata": {},
   "source": [
    "We now have the errors and for each error tolerance"
   ]
  },
  {
   "cell_type": "code",
   "execution_count": 5,
   "id": "dcb4b25b-153e-4fdd-aefd-5a62e0c7f45f",
   "metadata": {
    "tags": []
   },
   "outputs": [
    {
     "data": {
      "text/html": [
       "<div>\n",
       "<style scoped>\n",
       "    .dataframe tbody tr th:only-of-type {\n",
       "        vertical-align: middle;\n",
       "    }\n",
       "\n",
       "    .dataframe tbody tr th {\n",
       "        vertical-align: top;\n",
       "    }\n",
       "\n",
       "    .dataframe thead th {\n",
       "        text-align: right;\n",
       "    }\n",
       "</style>\n",
       "<table border=\"1\" class=\"dataframe\">\n",
       "  <thead>\n",
       "    <tr style=\"text-align: right;\">\n",
       "      <th></th>\n",
       "      <th>name</th>\n",
       "      <th>starting_model</th>\n",
       "      <th>num_to_run</th>\n",
       "      <th>n_duplicates</th>\n",
       "      <th>energy_error_per_atom-mean</th>\n",
       "      <th>energy_error_per_atom-sem</th>\n",
       "      <th>force_rmsd-mean</th>\n",
       "      <th>force_rmsd-sem</th>\n",
       "      <th>energy_error_per_atom-init-mean</th>\n",
       "      <th>energy_error_per_atom-init-sem</th>\n",
       "      <th>force_rmsd-init-mean</th>\n",
       "      <th>force_rmsd-init-sem</th>\n",
       "      <th>model_name</th>\n",
       "    </tr>\n",
       "  </thead>\n",
       "  <tbody>\n",
       "    <tr>\n",
       "      <th>0</th>\n",
       "      <td>dft_md-1000_ttm-25000</td>\n",
       "      <td>../../notebooks/initial-models/dft_post-ttm-re...</td>\n",
       "      <td>1000</td>\n",
       "      <td>1</td>\n",
       "      <td>2.563923</td>\n",
       "      <td>0.332872</td>\n",
       "      <td>0.269799</td>\n",
       "      <td>0.019148</td>\n",
       "      <td>3.768799</td>\n",
       "      <td>0.672013</td>\n",
       "      <td>0.492776</td>\n",
       "      <td>0.02801</td>\n",
       "      <td>Refined</td>\n",
       "    </tr>\n",
       "    <tr>\n",
       "      <th>1</th>\n",
       "      <td>dft_md-10000_starting-model</td>\n",
       "      <td>../../notebooks/initial-models/dft/starting-model</td>\n",
       "      <td>10000</td>\n",
       "      <td>1</td>\n",
       "      <td>1.669165</td>\n",
       "      <td>0.237735</td>\n",
       "      <td>0.219360</td>\n",
       "      <td>0.019284</td>\n",
       "      <td>3.772808</td>\n",
       "      <td>0.671670</td>\n",
       "      <td>0.492776</td>\n",
       "      <td>0.02801</td>\n",
       "      <td>Initial</td>\n",
       "    </tr>\n",
       "    <tr>\n",
       "      <th>2</th>\n",
       "      <td>dft_md-10000_ttm-25000</td>\n",
       "      <td>../../notebooks/initial-models/dft_post-ttm-re...</td>\n",
       "      <td>10000</td>\n",
       "      <td>1</td>\n",
       "      <td>1.661782</td>\n",
       "      <td>0.225142</td>\n",
       "      <td>0.220743</td>\n",
       "      <td>0.017895</td>\n",
       "      <td>3.770166</td>\n",
       "      <td>0.671870</td>\n",
       "      <td>0.492776</td>\n",
       "      <td>0.02801</td>\n",
       "      <td>Refined</td>\n",
       "    </tr>\n",
       "    <tr>\n",
       "      <th>3</th>\n",
       "      <td>dft_md-1000_starting-model</td>\n",
       "      <td>../../notebooks/initial-models/dft/starting-model</td>\n",
       "      <td>1000</td>\n",
       "      <td>1</td>\n",
       "      <td>1.838901</td>\n",
       "      <td>0.193102</td>\n",
       "      <td>0.300694</td>\n",
       "      <td>0.016785</td>\n",
       "      <td>3.769067</td>\n",
       "      <td>0.671940</td>\n",
       "      <td>0.492776</td>\n",
       "      <td>0.02801</td>\n",
       "      <td>Initial</td>\n",
       "    </tr>\n",
       "  </tbody>\n",
       "</table>\n",
       "</div>"
      ],
      "text/plain": [
       "                          name  \\\n",
       "0        dft_md-1000_ttm-25000   \n",
       "1  dft_md-10000_starting-model   \n",
       "2       dft_md-10000_ttm-25000   \n",
       "3   dft_md-1000_starting-model   \n",
       "\n",
       "                                      starting_model  num_to_run  \\\n",
       "0  ../../notebooks/initial-models/dft_post-ttm-re...        1000   \n",
       "1  ../../notebooks/initial-models/dft/starting-model       10000   \n",
       "2  ../../notebooks/initial-models/dft_post-ttm-re...       10000   \n",
       "3  ../../notebooks/initial-models/dft/starting-model        1000   \n",
       "\n",
       "   n_duplicates  energy_error_per_atom-mean  energy_error_per_atom-sem  \\\n",
       "0             1                    2.563923                   0.332872   \n",
       "1             1                    1.669165                   0.237735   \n",
       "2             1                    1.661782                   0.225142   \n",
       "3             1                    1.838901                   0.193102   \n",
       "\n",
       "   force_rmsd-mean  force_rmsd-sem  energy_error_per_atom-init-mean  \\\n",
       "0         0.269799        0.019148                         3.768799   \n",
       "1         0.219360        0.019284                         3.772808   \n",
       "2         0.220743        0.017895                         3.770166   \n",
       "3         0.300694        0.016785                         3.769067   \n",
       "\n",
       "   energy_error_per_atom-init-sem  force_rmsd-init-mean  force_rmsd-init-sem  \\\n",
       "0                        0.672013              0.492776              0.02801   \n",
       "1                        0.671670              0.492776              0.02801   \n",
       "2                        0.671870              0.492776              0.02801   \n",
       "3                        0.671940              0.492776              0.02801   \n",
       "\n",
       "  model_name  \n",
       "0    Refined  \n",
       "1    Initial  \n",
       "2    Refined  \n",
       "3    Initial  "
      ]
     },
     "execution_count": 5,
     "metadata": {},
     "output_type": "execute_result"
    }
   ],
   "source": [
    "data"
   ]
  },
  {
   "cell_type": "markdown",
   "id": "161e8f10-8c7a-4727-a3f0-742b518bd831",
   "metadata": {},
   "source": [
    "Make a figure"
   ]
  },
  {
   "cell_type": "code",
   "execution_count": 6,
   "id": "e41c54ef-c0f6-42d0-9e60-95505be1bbea",
   "metadata": {
    "tags": []
   },
   "outputs": [
    {
     "data": {
      "text/plain": [
       "Text(0.5, 0, 'Run Length')"
      ]
     },
     "execution_count": 6,
     "metadata": {},
     "output_type": "execute_result"
    },
    {
     "data": {
      "image/png": "[encoded data removed]",
      "text/plain": [
       "<Figure size 350x275 with 2 Axes>"
      ]
     },
     "metadata": {},
     "output_type": "display_data"
    }
   ],
   "source": [
    "fig, axs = plt.subplots(2, 1, sharex=True, figsize=(3.5, 2.75))\n",
    "\n",
    "for ax, t in zip(axs, ['energy_error_per_atom', 'force_rmsd']):\n",
    "    for name, group in data.groupby('model_name'):\n",
    "        # Plot the tuned model\n",
    "        ax.errorbar(group['num_to_run'], group[f'{t}-mean'],\n",
    "                    fmt='--o', yerr=group[f'{t}-sem'], label=name)\n",
    "\n",
    "    # Plot the initial model\n",
    "    row = data.iloc[0]\n",
    "    ax.fill_between(ax.get_xlim(),\n",
    "                    y1=row[f'{t}-init-mean'] + row[f'{t}-init-sem'],\n",
    "                    y2=row[f'{t}-init-mean'] - row[f'{t}-init-sem'],\n",
    "                   color='gray', alpha=0.5)\n",
    "    ax.text(3000, row[f'{t}-init-mean'] - row[f'{t}-init-sem'], 'Starting\\nModel',\n",
    "           ha='right', va='top', fontsize=8)\n",
    "    \n",
    "ax.legend()\n",
    "    \n",
    "axs[0].set_ylabel('Energy MAE\\n(meV/atom)')\n",
    "axs[1].set_ylabel('Force RMSD\\n(eV/Ang)')\n",
    "axs[-1].set_xlabel('Run Length')"
   ]
  },
  {
   "cell_type": "markdown",
   "id": "3adad15e-5d41-4f6d-afbd-fe0a184f0e44",
   "metadata": {},
   "source": [
    "The initial model does better on this test, but I would like to revisit the test set which I use. It might be biased towards high-energy structures."
   ]
  },
  {
   "cell_type": "markdown",
   "id": "75cffe79-b26b-4731-9775-bae08dfa4260",
   "metadata": {},
   "source": [
    "## Repeat with MCTBP\n",
    "See if the sampling methods improve performance"
   ]
  },
  {
   "cell_type": "code",
   "execution_count": 7,
   "id": "54395776-4d50-40dc-bcb1-43f56c0c5101",
   "metadata": {
    "tags": []
   },
   "outputs": [],
   "source": [
    "data = utils.assess_from_mctbp_runs(runs, ['starting_model', 'num_to_run'])\n",
    "data['model_name'] = data['starting_model'].apply(lambda x: 'Refined' if 'dft_' in x else 'Initial')"
   ]
  },
  {
   "cell_type": "markdown",
   "id": "6f6c533f-c08c-47f2-ada6-a8d5c3b0bddc",
   "metadata": {},
   "source": [
    "Summarize all runs"
   ]
  },
  {
   "cell_type": "code",
   "execution_count": 8,
   "id": "451ba1da-5f62-435e-9cd9-4aefd02a02b9",
   "metadata": {
    "tags": []
   },
   "outputs": [
    {
     "data": {
      "text/html": [
       "<div>\n",
       "<style scoped>\n",
       "    .dataframe tbody tr th:only-of-type {\n",
       "        vertical-align: middle;\n",
       "    }\n",
       "\n",
       "    .dataframe tbody tr th {\n",
       "        vertical-align: top;\n",
       "    }\n",
       "\n",
       "    .dataframe thead th {\n",
       "        text-align: right;\n",
       "    }\n",
       "</style>\n",
       "<table border=\"1\" class=\"dataframe\">\n",
       "  <thead>\n",
       "    <tr style=\"text-align: right;\">\n",
       "      <th></th>\n",
       "      <th>name</th>\n",
       "      <th>starting_model</th>\n",
       "      <th>num_to_run</th>\n",
       "      <th>n_duplicates</th>\n",
       "      <th>number_sampled</th>\n",
       "      <th>energy_error-mean</th>\n",
       "      <th>energy_error-sem</th>\n",
       "      <th>force_error-mean</th>\n",
       "      <th>force_error-sem</th>\n",
       "      <th>max_force-mean</th>\n",
       "      <th>max_force-sem</th>\n",
       "      <th>tau-mean</th>\n",
       "      <th>tau-sem</th>\n",
       "      <th>model_name</th>\n",
       "    </tr>\n",
       "  </thead>\n",
       "  <tbody>\n",
       "    <tr>\n",
       "      <th>0</th>\n",
       "      <td>dft_md-1000_ttm-25000</td>\n",
       "      <td>../../notebooks/initial-models/dft_post-ttm-re...</td>\n",
       "      <td>1000</td>\n",
       "      <td>1</td>\n",
       "      <td>304</td>\n",
       "      <td>10.659224</td>\n",
       "      <td>0.778148</td>\n",
       "      <td>2.829169</td>\n",
       "      <td>0.099235</td>\n",
       "      <td>1.104597</td>\n",
       "      <td>0.065210</td>\n",
       "      <td>0.693783</td>\n",
       "      <td>0.031973</td>\n",
       "      <td>Refined</td>\n",
       "    </tr>\n",
       "    <tr>\n",
       "      <th>3</th>\n",
       "      <td>dft_md-1000_starting-model</td>\n",
       "      <td>../../notebooks/initial-models/dft/starting-model</td>\n",
       "      <td>1000</td>\n",
       "      <td>1</td>\n",
       "      <td>228</td>\n",
       "      <td>10.549111</td>\n",
       "      <td>1.076842</td>\n",
       "      <td>2.858850</td>\n",
       "      <td>0.122586</td>\n",
       "      <td>1.190271</td>\n",
       "      <td>0.083366</td>\n",
       "      <td>0.634528</td>\n",
       "      <td>0.066162</td>\n",
       "      <td>Initial</td>\n",
       "    </tr>\n",
       "    <tr>\n",
       "      <th>1</th>\n",
       "      <td>dft_md-10000_starting-model</td>\n",
       "      <td>../../notebooks/initial-models/dft/starting-model</td>\n",
       "      <td>10000</td>\n",
       "      <td>1</td>\n",
       "      <td>304</td>\n",
       "      <td>8.279186</td>\n",
       "      <td>0.493348</td>\n",
       "      <td>2.559878</td>\n",
       "      <td>0.096280</td>\n",
       "      <td>1.117348</td>\n",
       "      <td>0.072335</td>\n",
       "      <td>0.684551</td>\n",
       "      <td>0.061894</td>\n",
       "      <td>Initial</td>\n",
       "    </tr>\n",
       "    <tr>\n",
       "      <th>2</th>\n",
       "      <td>dft_md-10000_ttm-25000</td>\n",
       "      <td>../../notebooks/initial-models/dft_post-ttm-re...</td>\n",
       "      <td>10000</td>\n",
       "      <td>1</td>\n",
       "      <td>303</td>\n",
       "      <td>8.053298</td>\n",
       "      <td>0.522050</td>\n",
       "      <td>2.552005</td>\n",
       "      <td>0.115956</td>\n",
       "      <td>1.274722</td>\n",
       "      <td>0.086691</td>\n",
       "      <td>0.757997</td>\n",
       "      <td>0.039868</td>\n",
       "      <td>Refined</td>\n",
       "    </tr>\n",
       "  </tbody>\n",
       "</table>\n",
       "</div>"
      ],
      "text/plain": [
       "                          name  \\\n",
       "0        dft_md-1000_ttm-25000   \n",
       "3   dft_md-1000_starting-model   \n",
       "1  dft_md-10000_starting-model   \n",
       "2       dft_md-10000_ttm-25000   \n",
       "\n",
       "                                      starting_model  num_to_run  \\\n",
       "0  ../../notebooks/initial-models/dft_post-ttm-re...        1000   \n",
       "3  ../../notebooks/initial-models/dft/starting-model        1000   \n",
       "1  ../../notebooks/initial-models/dft/starting-model       10000   \n",
       "2  ../../notebooks/initial-models/dft_post-ttm-re...       10000   \n",
       "\n",
       "   n_duplicates  number_sampled  energy_error-mean  energy_error-sem  \\\n",
       "0             1             304          10.659224          0.778148   \n",
       "3             1             228          10.549111          1.076842   \n",
       "1             1             304           8.279186          0.493348   \n",
       "2             1             303           8.053298          0.522050   \n",
       "\n",
       "   force_error-mean  force_error-sem  max_force-mean  max_force-sem  tau-mean  \\\n",
       "0          2.829169         0.099235        1.104597       0.065210  0.693783   \n",
       "3          2.858850         0.122586        1.190271       0.083366  0.634528   \n",
       "1          2.559878         0.096280        1.117348       0.072335  0.684551   \n",
       "2          2.552005         0.115956        1.274722       0.086691  0.757997   \n",
       "\n",
       "    tau-sem model_name  \n",
       "0  0.031973    Refined  \n",
       "3  0.066162    Initial  \n",
       "1  0.061894    Initial  \n",
       "2  0.039868    Refined  "
      ]
     },
     "execution_count": 8,
     "metadata": {},
     "output_type": "execute_result"
    }
   ],
   "source": [
    "data.sort_values('num_to_run')"
   ]
  },
  {
   "cell_type": "markdown",
   "id": "ec73711a-33b0-45fd-bcd7-b8425b300f39",
   "metadata": {},
   "source": [
    "Plot the errors"
   ]
  },
  {
   "cell_type": "code",
   "execution_count": 12,
   "id": "940b05fd-2632-4281-90c5-9142853d5bc3",
   "metadata": {
    "tags": []
   },
   "outputs": [
    {
     "data": {
      "image/png": "[encoded data removed]",
      "text/plain": [
       "<Figure size 350x425 with 4 Axes>"
      ]
     },
     "metadata": {},
     "output_type": "display_data"
    }
   ],
   "source": [
    "fig, axs = plt.subplots(4, 1, sharex=True, figsize=(3.5, 4.25))\n",
    "\n",
    "for ax, t in zip(axs, ['energy_error', 'force_error', 'max_force', 'tau']):\n",
    "    for label, group in data.groupby('model_name'):\n",
    "        # Plot the tuned model\n",
    "        ax.errorbar(group['num_to_run'], group[f'{t}-mean'], fmt='--o', yerr=group[f'{t}-sem'], label=label)\n",
    "    \n",
    "   \n",
    "axs[0].set_ylabel('Energy MAE\\n(meV/atom)')\n",
    "axs[1].set_ylabel('Force RMSD\\n(eV/Ang)')\n",
    "axs[2].set_ylabel('Max Force\\n(eV/Ang)')\n",
    "axs[3].set_ylabel('Ranking\\nPerformance')\n",
    "axs[-1].set_xlabel('Run Length')\n",
    "axs[1].legend(ncol=2, fontsize=7)\n",
    "\n",
    "fig.tight_layout()"
   ]
  },
  {
   "cell_type": "markdown",
   "id": "3f58dee8-f5ad-4cb8-96ae-6fc473c5be79",
   "metadata": {},
   "source": [
    "It seems like the refined model performs slightly better on all aspects except the \"maximum force\" (a measure of how well relaxed the produced structures are). The changes are only notable for the ranking performance, which happen to be the one I care most about as I want to know that the structures we identify as global minima are indeed global minima. The actual energy matters less.\n",
    "\n",
    "We should re-run these tests with even more numbers of MCTBP steps to reduce the error bars further."
   ]
  },
  {
   "cell_type": "code",
   "execution_count": null,
   "id": "309239ab-80cd-4b8f-8953-4cb79c596ad5",
   "metadata": {},
   "outputs": [],
   "source": []
  }
 ],
 "metadata": {
  "kernelspec": {
   "display_name": "Python 3 (ipykernel)",
   "language": "python",
   "name": "python3"
  },
  "language_info": {
   "codemirror_mode": {
    "name": "ipython",
    "version": 3
   },
   "file_extension": ".py",
   "mimetype": "text/x-python",
   "name": "python",
   "nbconvert_exporter": "python",
   "pygments_lexer": "ipython3",
   "version": "3.10.8"
  }
 },
 "nbformat": 4,
 "nbformat_minor": 5
}
