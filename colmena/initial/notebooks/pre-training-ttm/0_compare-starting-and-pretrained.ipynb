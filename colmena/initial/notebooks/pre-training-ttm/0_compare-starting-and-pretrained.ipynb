{
 "cells": [
  {
   "cell_type": "markdown",
   "id": "03f2eced-0e6c-494d-9c14-b6a96f273b01",
   "metadata": {},
   "source": [
    "# Evaluate Effect of Starting Model\n",
    "Compare a model which started from our original TTM weights, and another which was trained using 25000 more TTM entries.\n",
    "We'd like to know if training using additional TTM entries reduces the need for DFT data to acheive a target accuracy."
   ]
  },
  {
   "cell_type": "code",
   "execution_count": 1,
   "id": "42ba3b25-3214-4685-9acc-23ea8cfcb0c3",
   "metadata": {
    "tags": []
   },
   "outputs": [],
   "source": [
    "%matplotlib inline\n",
    "from matplotlib import pyplot as plt\n",
    "from pathlib import Path\n",
    "from ase import units\n",
    "import pandas as pd\n",
    "import utils\n",
    "import json"
   ]
  },
  {
   "cell_type": "markdown",
   "id": "6d60d163-8a7b-453d-9ae0-500ffb0baa18",
   "metadata": {},
   "source": [
    "## Load in Examples\n",
    "We only vary the sampling method, keeping the number of structures produced and the target error constant.\n",
    "We selected a target error of 2.5 meV/atom because it gave us a model that performed well against a hold-out set and produced better structure when used for MCTBP."
   ]
  },
  {
   "cell_type": "code",
   "execution_count": 2,
   "id": "fd1f7c63-82b9-4ccb-9311-fb2b6968e57a",
   "metadata": {
    "tags": []
   },
   "outputs": [
    {
     "name": "stdout",
     "output_type": "stream",
     "text": [
      "Found 4 runs\n"
     ]
    }
   ],
   "source": [
    "runs = list(Path('../prod-runs/').glob('dft_md*'))\n",
    "print(f'Found {len(runs)} runs')"
   ]
  },
  {
   "cell_type": "markdown",
   "id": "5229b173-e450-4a7a-b39e-e00f37c3c458",
   "metadata": {},
   "source": [
    "Make sure training parameters for the network were the same"
   ]
  },
  {
   "cell_type": "code",
   "execution_count": 3,
   "id": "43b35fd5-ffee-4941-be5e-8fa23636f17c",
   "metadata": {
    "tags": []
   },
   "outputs": [],
   "source": [
    "params = json.loads((runs[0] / 'final-model' / 'params.json').read_text())\n",
    "params.pop('run_dir')\n",
    "for run in runs:\n",
    "    duplicates = json.loads((run / 'duplicates.json').read_text())\n",
    "    for dup in duplicates:\n",
    "        dup = Path(dup)\n",
    "        my_params = json.loads((dup / 'final-model' / 'params.json').read_text())\n",
    "        my_params.pop('run_dir')\n",
    "        assert my_params == params, f'{dup} is different than {runs[0]}. {params} != {my_params}'"
   ]
  },
  {
   "cell_type": "markdown",
   "id": "6d8b8b58-1221-4ec5-b645-35deb73f3782",
   "metadata": {},
   "source": [
    "## Compare Against Hold-out Set\n",
    "Using the same procedure as last notebook"
   ]
  },
  {
   "cell_type": "code",
   "execution_count": 4,
   "id": "80547419-82b9-40b0-8732-e509cfa03732",
   "metadata": {
    "tags": []
   },
   "outputs": [],
   "source": [
    "data = utils.assess_against_holdout(runs, ['starting_model', 'num_to_run'])\n",
    "data['model_name'] = data['starting_model'].apply(lambda x: 'Refined' if 'dft_' in x else 'Initial')"
   ]
  },
  {
   "cell_type": "markdown",
   "id": "894eeeac-c040-4664-acaf-e216a752a3cd",
   "metadata": {},
   "source": [
    "We now have the errors and for each error tolerance"
   ]
  },
  {
   "cell_type": "code",
   "execution_count": 5,
   "id": "dcb4b25b-153e-4fdd-aefd-5a62e0c7f45f",
   "metadata": {
    "tags": []
   },
   "outputs": [
    {
     "data": {
      "text/html": [
       "<div>\n",
       "<style scoped>\n",
       "    .dataframe tbody tr th:only-of-type {\n",
       "        vertical-align: middle;\n",
       "    }\n",
       "\n",
       "    .dataframe tbody tr th {\n",
       "        vertical-align: top;\n",
       "    }\n",
       "\n",
       "    .dataframe thead th {\n",
       "        text-align: right;\n",
       "    }\n",
       "</style>\n",
       "<table border=\"1\" class=\"dataframe\">\n",
       "  <thead>\n",
       "    <tr style=\"text-align: right;\">\n",
       "      <th></th>\n",
       "      <th>name</th>\n",
       "      <th>starting_model</th>\n",
       "      <th>num_to_run</th>\n",
       "      <th>n_duplicates</th>\n",
       "      <th>energy_error_per_atom-mean</th>\n",
       "      <th>energy_error_per_atom-sem</th>\n",
       "      <th>force_rmsd-mean</th>\n",
       "      <th>force_rmsd-sem</th>\n",
       "      <th>energy_error_per_atom-init-mean</th>\n",
       "      <th>energy_error_per_atom-init-sem</th>\n",
       "      <th>force_rmsd-init-mean</th>\n",
       "      <th>force_rmsd-init-sem</th>\n",
       "      <th>model_name</th>\n",
       "    </tr>\n",
       "  </thead>\n",
       "  <tbody>\n",
       "    <tr>\n",
       "      <th>0</th>\n",
       "      <td>dft_md-1000_ttm-25000</td>\n",
       "      <td>../../notebooks/initial-models/dft_post-ttm-re...</td>\n",
       "      <td>1000</td>\n",
       "      <td>1</td>\n",
       "      <td>2.563923</td>\n",
       "      <td>0.332872</td>\n",
       "      <td>0.269799</td>\n",
       "      <td>0.019148</td>\n",
       "      <td>3.768799</td>\n",
       "      <td>0.672013</td>\n",
       "      <td>0.492776</td>\n",
       "      <td>0.028010</td>\n",
       "      <td>Refined</td>\n",
       "    </tr>\n",
       "    <tr>\n",
       "      <th>1</th>\n",
       "      <td>dft_md-10000_starting-model</td>\n",
       "      <td>../../notebooks/initial-models/dft/starting-model</td>\n",
       "      <td>10000</td>\n",
       "      <td>1</td>\n",
       "      <td>1.669165</td>\n",
       "      <td>0.237735</td>\n",
       "      <td>0.219360</td>\n",
       "      <td>0.019284</td>\n",
       "      <td>3.772808</td>\n",
       "      <td>0.671670</td>\n",
       "      <td>0.492776</td>\n",
       "      <td>0.028010</td>\n",
       "      <td>Initial</td>\n",
       "    </tr>\n",
       "    <tr>\n",
       "      <th>2</th>\n",
       "      <td>dft_md-10000_ttm-25000</td>\n",
       "      <td>../../notebooks/initial-models/dft_post-ttm-re...</td>\n",
       "      <td>10000</td>\n",
       "      <td>2</td>\n",
       "      <td>1.661782</td>\n",
       "      <td>0.157631</td>\n",
       "      <td>0.220743</td>\n",
       "      <td>0.012529</td>\n",
       "      <td>3.770166</td>\n",
       "      <td>0.470403</td>\n",
       "      <td>0.492776</td>\n",
       "      <td>0.019611</td>\n",
       "      <td>Refined</td>\n",
       "    </tr>\n",
       "    <tr>\n",
       "      <th>3</th>\n",
       "      <td>dft_md-1000_starting-model</td>\n",
       "      <td>../../notebooks/initial-models/dft/starting-model</td>\n",
       "      <td>1000</td>\n",
       "      <td>1</td>\n",
       "      <td>1.838901</td>\n",
       "      <td>0.193102</td>\n",
       "      <td>0.300694</td>\n",
       "      <td>0.016785</td>\n",
       "      <td>3.769067</td>\n",
       "      <td>0.671940</td>\n",
       "      <td>0.492776</td>\n",
       "      <td>0.028010</td>\n",
       "      <td>Initial</td>\n",
       "    </tr>\n",
       "  </tbody>\n",
       "</table>\n",
       "</div>"
      ],
      "text/plain": [
       "                          name  \\\n",
       "0        dft_md-1000_ttm-25000   \n",
       "1  dft_md-10000_starting-model   \n",
       "2       dft_md-10000_ttm-25000   \n",
       "3   dft_md-1000_starting-model   \n",
       "\n",
       "                                      starting_model  num_to_run  \\\n",
       "0  ../../notebooks/initial-models/dft_post-ttm-re...        1000   \n",
       "1  ../../notebooks/initial-models/dft/starting-model       10000   \n",
       "2  ../../notebooks/initial-models/dft_post-ttm-re...       10000   \n",
       "3  ../../notebooks/initial-models/dft/starting-model        1000   \n",
       "\n",
       "   n_duplicates  energy_error_per_atom-mean  energy_error_per_atom-sem  \\\n",
       "0             1                    2.563923                   0.332872   \n",
       "1             1                    1.669165                   0.237735   \n",
       "2             2                    1.661782                   0.157631   \n",
       "3             1                    1.838901                   0.193102   \n",
       "\n",
       "   force_rmsd-mean  force_rmsd-sem  energy_error_per_atom-init-mean  \\\n",
       "0         0.269799        0.019148                         3.768799   \n",
       "1         0.219360        0.019284                         3.772808   \n",
       "2         0.220743        0.012529                         3.770166   \n",
       "3         0.300694        0.016785                         3.769067   \n",
       "\n",
       "   energy_error_per_atom-init-sem  force_rmsd-init-mean  force_rmsd-init-sem  \\\n",
       "0                        0.672013              0.492776             0.028010   \n",
       "1                        0.671670              0.492776             0.028010   \n",
       "2                        0.470403              0.492776             0.019611   \n",
       "3                        0.671940              0.492776             0.028010   \n",
       "\n",
       "  model_name  \n",
       "0    Refined  \n",
       "1    Initial  \n",
       "2    Refined  \n",
       "3    Initial  "
      ]
     },
     "execution_count": 5,
     "metadata": {},
     "output_type": "execute_result"
    }
   ],
   "source": [
    "data"
   ]
  },
  {
   "cell_type": "markdown",
   "id": "161e8f10-8c7a-4727-a3f0-742b518bd831",
   "metadata": {},
   "source": [
    "Make a figure"
   ]
  },
  {
   "cell_type": "code",
   "execution_count": 6,
   "id": "e41c54ef-c0f6-42d0-9e60-95505be1bbea",
   "metadata": {
    "tags": []
   },
   "outputs": [
    {
     "data": {
      "text/plain": [
       "Text(0.5, 0, 'Run Length')"
      ]
     },
     "execution_count": 6,
     "metadata": {},
     "output_type": "execute_result"
    },
    {
     "data": {
      "image/png": "[encoded data removed]",
      "text/plain": [
       "<Figure size 350x275 with 2 Axes>"
      ]
     },
     "metadata": {},
     "output_type": "display_data"
    }
   ],
   "source": [
    "fig, axs = plt.subplots(2, 1, sharex=True, figsize=(3.5, 2.75))\n",
    "\n",
    "for ax, t in zip(axs, ['energy_error_per_atom', 'force_rmsd']):\n",
    "    for name, group in data.groupby('model_name'):\n",
    "        # Plot the tuned model\n",
    "        ax.errorbar(group['num_to_run'], group[f'{t}-mean'],\n",
    "                    fmt='--o', yerr=group[f'{t}-sem'], label=name)\n",
    "\n",
    "    # Plot the initial model\n",
    "    row = data.iloc[0]\n",
    "    ax.fill_between(ax.get_xlim(),\n",
    "                    y1=row[f'{t}-init-mean'] + row[f'{t}-init-sem'],\n",
    "                    y2=row[f'{t}-init-mean'] - row[f'{t}-init-sem'],\n",
    "                   color='gray', alpha=0.5)\n",
    "    ax.text(3000, row[f'{t}-init-mean'] - row[f'{t}-init-sem'], 'Starting\\nModel',\n",
    "           ha='right', va='top', fontsize=8)\n",
    "    \n",
    "ax.legend()\n",
    "    \n",
    "axs[0].set_ylabel('Energy MAE\\n(meV/atom)')\n",
    "axs[1].set_ylabel('Force RMSD\\n(eV/Ang)')\n",
    "axs[-1].set_xlabel('Run Length')"
   ]
  },
  {
   "cell_type": "markdown",
   "id": "3adad15e-5d41-4f6d-afbd-fe0a184f0e44",
   "metadata": {},
   "source": [
    "The initial model does better on this test, but I would like to revisit the test set which I use. It might be biased towards high-energy structures."
   ]
  },
  {
   "cell_type": "markdown",
   "id": "75cffe79-b26b-4731-9775-bae08dfa4260",
   "metadata": {},
   "source": [
    "## Repeat with MCTBP\n",
    "See if the sampling methods improve performance"
   ]
  },
  {
   "cell_type": "code",
   "execution_count": 7,
   "id": "54395776-4d50-40dc-bcb1-43f56c0c5101",
   "metadata": {
    "tags": []
   },
   "outputs": [],
   "source": [
    "data = utils.assess_from_mctbp_runs(runs, ['starting_model', 'num_to_run'])\n",
    "data['model_name'] = data['starting_model'].apply(lambda x: 'Refined' if 'dft_' in x else 'Initial')"
   ]
  },
  {
   "cell_type": "markdown",
   "id": "6f6c533f-c08c-47f2-ada6-a8d5c3b0bddc",
   "metadata": {},
   "source": [
    "Summarize all runs"
   ]
  },
  {
   "cell_type": "code",
   "execution_count": 8,
   "id": "451ba1da-5f62-435e-9cd9-4aefd02a02b9",
   "metadata": {
    "tags": []
   },
   "outputs": [
    {
     "data": {
      "text/html": [
       "<div>\n",
       "<style scoped>\n",
       "    .dataframe tbody tr th:only-of-type {\n",
       "        vertical-align: middle;\n",
       "    }\n",
       "\n",
       "    .dataframe tbody tr th {\n",
       "        vertical-align: top;\n",
       "    }\n",
       "\n",
       "    .dataframe thead th {\n",
       "        text-align: right;\n",
       "    }\n",
       "</style>\n",
       "<table border=\"1\" class=\"dataframe\">\n",
       "  <thead>\n",
       "    <tr style=\"text-align: right;\">\n",
       "      <th></th>\n",
       "      <th>name</th>\n",
       "      <th>starting_model</th>\n",
       "      <th>num_to_run</th>\n",
       "      <th>n_duplicates</th>\n",
       "      <th>number_sampled</th>\n",
       "      <th>energy_error-mean</th>\n",
       "      <th>energy_error-sem</th>\n",
       "      <th>force_error-mean</th>\n",
       "      <th>force_error-sem</th>\n",
       "      <th>max_force-mean</th>\n",
       "      <th>max_force-sem</th>\n",
       "      <th>tau-mean</th>\n",
       "      <th>tau-sem</th>\n",
       "      <th>model_name</th>\n",
       "    </tr>\n",
       "  </thead>\n",
       "  <tbody>\n",
       "    <tr>\n",
       "      <th>0</th>\n",
       "      <td>dft_md-1000_ttm-25000</td>\n",
       "      <td>../../notebooks/initial-models/dft_post-ttm-re...</td>\n",
       "      <td>1000</td>\n",
       "      <td>1</td>\n",
       "      <td>558</td>\n",
       "      <td>15.385705</td>\n",
       "      <td>0.726940</td>\n",
       "      <td>3.253657</td>\n",
       "      <td>0.078715</td>\n",
       "      <td>1.370897</td>\n",
       "      <td>0.051398</td>\n",
       "      <td>0.699780</td>\n",
       "      <td>0.025936</td>\n",
       "      <td>Refined</td>\n",
       "    </tr>\n",
       "    <tr>\n",
       "      <th>3</th>\n",
       "      <td>dft_md-1000_starting-model</td>\n",
       "      <td>../../notebooks/initial-models/dft/starting-model</td>\n",
       "      <td>1000</td>\n",
       "      <td>1</td>\n",
       "      <td>559</td>\n",
       "      <td>17.019076</td>\n",
       "      <td>0.929249</td>\n",
       "      <td>3.631915</td>\n",
       "      <td>0.083509</td>\n",
       "      <td>1.536801</td>\n",
       "      <td>0.058181</td>\n",
       "      <td>0.664755</td>\n",
       "      <td>0.036272</td>\n",
       "      <td>Initial</td>\n",
       "    </tr>\n",
       "    <tr>\n",
       "      <th>1</th>\n",
       "      <td>dft_md-10000_starting-model</td>\n",
       "      <td>../../notebooks/initial-models/dft/starting-model</td>\n",
       "      <td>10000</td>\n",
       "      <td>1</td>\n",
       "      <td>560</td>\n",
       "      <td>12.555283</td>\n",
       "      <td>0.624844</td>\n",
       "      <td>3.315409</td>\n",
       "      <td>0.103939</td>\n",
       "      <td>1.626007</td>\n",
       "      <td>0.073339</td>\n",
       "      <td>0.757431</td>\n",
       "      <td>0.029958</td>\n",
       "      <td>Initial</td>\n",
       "    </tr>\n",
       "    <tr>\n",
       "      <th>2</th>\n",
       "      <td>dft_md-10000_ttm-25000</td>\n",
       "      <td>../../notebooks/initial-models/dft_post-ttm-re...</td>\n",
       "      <td>10000</td>\n",
       "      <td>2</td>\n",
       "      <td>1119</td>\n",
       "      <td>10.089369</td>\n",
       "      <td>0.349192</td>\n",
       "      <td>2.883717</td>\n",
       "      <td>0.068496</td>\n",
       "      <td>1.498781</td>\n",
       "      <td>0.050714</td>\n",
       "      <td>0.781186</td>\n",
       "      <td>0.018313</td>\n",
       "      <td>Refined</td>\n",
       "    </tr>\n",
       "  </tbody>\n",
       "</table>\n",
       "</div>"
      ],
      "text/plain": [
       "                          name  \\\n",
       "0        dft_md-1000_ttm-25000   \n",
       "3   dft_md-1000_starting-model   \n",
       "1  dft_md-10000_starting-model   \n",
       "2       dft_md-10000_ttm-25000   \n",
       "\n",
       "                                      starting_model  num_to_run  \\\n",
       "0  ../../notebooks/initial-models/dft_post-ttm-re...        1000   \n",
       "3  ../../notebooks/initial-models/dft/starting-model        1000   \n",
       "1  ../../notebooks/initial-models/dft/starting-model       10000   \n",
       "2  ../../notebooks/initial-models/dft_post-ttm-re...       10000   \n",
       "\n",
       "   n_duplicates  number_sampled  energy_error-mean  energy_error-sem  \\\n",
       "0             1             558          15.385705          0.726940   \n",
       "3             1             559          17.019076          0.929249   \n",
       "1             1             560          12.555283          0.624844   \n",
       "2             2            1119          10.089369          0.349192   \n",
       "\n",
       "   force_error-mean  force_error-sem  max_force-mean  max_force-sem  tau-mean  \\\n",
       "0          3.253657         0.078715        1.370897       0.051398  0.699780   \n",
       "3          3.631915         0.083509        1.536801       0.058181  0.664755   \n",
       "1          3.315409         0.103939        1.626007       0.073339  0.757431   \n",
       "2          2.883717         0.068496        1.498781       0.050714  0.781186   \n",
       "\n",
       "    tau-sem model_name  \n",
       "0  0.025936    Refined  \n",
       "3  0.036272    Initial  \n",
       "1  0.029958    Initial  \n",
       "2  0.018313    Refined  "
      ]
     },
     "execution_count": 8,
     "metadata": {},
     "output_type": "execute_result"
    }
   ],
   "source": [
    "data.sort_values('num_to_run')"
   ]
  },
  {
   "cell_type": "markdown",
   "id": "ec73711a-33b0-45fd-bcd7-b8425b300f39",
   "metadata": {},
   "source": [
    "Plot the errors"
   ]
  },
  {
   "cell_type": "code",
   "execution_count": 9,
   "id": "940b05fd-2632-4281-90c5-9142853d5bc3",
   "metadata": {
    "tags": []
   },
   "outputs": [
    {
     "data": {
      "image/png": "[encoded data removed]",
      "text/plain": [
       "<Figure size 350x425 with 4 Axes>"
      ]
     },
     "metadata": {},
     "output_type": "display_data"
    }
   ],
   "source": [
    "fig, axs = plt.subplots(4, 1, sharex=True, figsize=(3.5, 4.25))\n",
    "\n",
    "for ax, t in zip(axs, ['energy_error', 'force_error', 'max_force', 'tau']):\n",
    "    for label, group in data.groupby('model_name'):\n",
    "        # Plot the tuned model\n",
    "        ax.errorbar(group['num_to_run'], group[f'{t}-mean'], fmt='--o', yerr=group[f'{t}-sem'], label=label)\n",
    "    \n",
    "   \n",
    "axs[0].set_ylabel('Energy MAE\\n(meV/atom)')\n",
    "axs[1].set_ylabel('Force RMSD\\n(eV/Ang)')\n",
    "axs[2].set_ylabel('Max Force\\n(eV/Ang)')\n",
    "axs[3].set_ylabel('Ranking\\nPerformance')\n",
    "axs[-1].set_xlabel('Run Length')\n",
    "axs[1].legend(ncol=2, fontsize=7)\n",
    "\n",
    "fig.tight_layout()"
   ]
  },
  {
   "cell_type": "markdown",
   "id": "f59f936f-772e-4416-85e2-02d734153c7b",
   "metadata": {},
   "source": [
    "## Performance for Molecular Dynamics\n",
    "Do we see the advantages for molecular dynamics?"
   ]
  },
  {
   "cell_type": "code",
   "execution_count": 10,
   "id": "acdcb3fc-2c24-44a7-aada-08af608193db",
   "metadata": {},
   "outputs": [],
   "source": [
    "with_pretrain = utils.summarize_md_results(Path('../prod-runs/dft_md-10000_ttm-25000/final-model'))"
   ]
  },
  {
   "cell_type": "code",
   "execution_count": 11,
   "id": "0288b568-f48e-4c37-8872-45bec04a8eda",
   "metadata": {},
   "outputs": [],
   "source": [
    "no_pretrain = utils.summarize_md_results(Path('../prod-runs/dft_md-10000_starting-model/final-model'))"
   ]
  },
  {
   "cell_type": "markdown",
   "id": "69edeb87-270f-44ae-986c-bd185ea7f73a",
   "metadata": {},
   "source": [
    "Plot the MD summaries"
   ]
  },
  {
   "cell_type": "code",
   "execution_count": 17,
   "id": "2d6ef95d-b434-493f-9215-a8ffb608cf7d",
   "metadata": {},
   "outputs": [
    {
     "data": {
      "text/plain": [
       "Text(0, 0.5, 'MAE (meV/atom)')"
      ]
     },
     "execution_count": 17,
     "metadata": {},
     "output_type": "execute_result"
    },
    {
     "data": {
      "image/png": "[encoded data removed]",
      "text/plain": [
       "<Figure size 350x250 with 1 Axes>"
      ]
     },
     "metadata": {},
     "output_type": "display_data"
    }
   ],
   "source": [
    "fig, ax = plt.subplots(figsize=(3.5, 2.5))\n",
    "\n",
    "for l, data in zip(['HydroNet', '+ Additional TTM'], [no_pretrain, with_pretrain]):\n",
    "\n",
    "    scale = 1000  # units.mol / units.kcal\n",
    "    mae_by_timestep = data.groupby('time')['energy_error_per_atom'].agg(['mean', 'sem', 'count']) * scale\n",
    "\n",
    "    ax.errorbar(mae_by_timestep.index / 1000, mae_by_timestep['mean'], fmt='--o', yerr=mae_by_timestep['sem'], label=l)\n",
    "\n",
    "\n",
    "ax.legend()\n",
    "ax.set_xlabel('Time (ps)')\n",
    "ax.set_ylabel('MAE (meV/atom)')"
   ]
  },
  {
   "cell_type": "markdown",
   "id": "593ba2ba-4817-46b5-8bb8-14fd27e27237",
   "metadata": {},
   "source": [
    "Yes, we do! The error gets lower if we pre-train on DFT more."
   ]
  },
  {
   "cell_type": "markdown",
   "id": "0e9e55ad-0a0b-4550-98a4-a1896007bc5b",
   "metadata": {},
   "source": [
    "To do:\n",
    "- Run for 1ns\n",
    "- Perform a \"baseline\" model where I start from no additional DFT\n",
    "- Do fine-tuning only on the smallest clusters ($N$ < 10?)\n",
    "- Fine tune on larger water clusters\n",
    "- Send a DFT model"
   ]
  },
  {
   "cell_type": "code",
   "execution_count": null,
   "id": "f2036c65-251f-48a8-9e1e-d8062ecc5cc2",
   "metadata": {},
   "outputs": [],
   "source": []
  }
 ],
 "metadata": {
  "kernelspec": {
   "display_name": "Python 3 (ipykernel)",
   "language": "python",
   "name": "python3"
  },
  "language_info": {
   "codemirror_mode": {
    "name": "ipython",
    "version": 3
   },
   "file_extension": ".py",
   "mimetype": "text/x-python",
   "name": "python",
   "nbconvert_exporter": "python",
   "pygments_lexer": "ipython3",
   "version": "3.10.8"
  }
 },
 "nbformat": 4,
 "nbformat_minor": 5
}
