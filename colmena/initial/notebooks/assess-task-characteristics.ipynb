{
 "cells": [
  {
   "cell_type": "markdown",
   "id": "b997a5bf-4057-4bbc-943d-7ab83d59d7ed",
   "metadata": {},
   "source": [
    "# Assess Task Compute Time and Data Sizes\n",
    "To get a better idea how they are each different and provide quantitative descriptions in the paper"
   ]
  },
  {
   "cell_type": "code",
   "execution_count": 1,
   "id": "345d4f36-8187-4726-8728-d8228282ed5b",
   "metadata": {},
   "outputs": [],
   "source": [
    "from pathlib import Path\n",
    "import pandas as pd"
   ]
  },
  {
   "cell_type": "markdown",
   "id": "485f43b9-a3ca-4e14-9f51-9a68d3361836",
   "metadata": {},
   "source": [
    "Configuration"
   ]
  },
  {
   "cell_type": "code",
   "execution_count": 2,
   "id": "989c7c5e-1e75-4a92-8c2d-1bc8c74fcc69",
   "metadata": {},
   "outputs": [],
   "source": [
    "run_dir = Path('../runs/22Oct06-131941-ce3ecd/')"
   ]
  },
  {
   "cell_type": "markdown",
   "id": "ca3d2be9-589e-4da5-9dc2-3f25ae4ac331",
   "metadata": {},
   "source": [
    "## Load in Each Type of Task\n",
    "We'll need the runtimes and method sizes"
   ]
  },
  {
   "cell_type": "code",
   "execution_count": 3,
   "id": "7d3613ce-b1fb-4ddf-b3ab-04804647d02a",
   "metadata": {},
   "outputs": [],
   "source": [
    "tasks = []\n",
    "for path in run_dir.glob('*-results.json'):\n",
    "    records = pd.read_json(path, lines=True)\n",
    "    records['total_size'] = records['message_sizes'].apply(lambda x: sum(x.values())) / 1e6\n",
    "    tasks.append(records[['method', 'time_running', 'total_size', 'message_sizes']])\n",
    "tasks = pd.concat(tasks)"
   ]
  },
  {
   "cell_type": "markdown",
   "id": "c94b14a3-d8dd-4a59-8da0-26280b5ba612",
   "metadata": {},
   "source": [
    "## Group by Mean\n",
    "Print out the statistics"
   ]
  },
  {
   "cell_type": "code",
   "execution_count": 4,
   "id": "193bb53b-e816-4b84-9456-315d41f07e62",
   "metadata": {},
   "outputs": [
    {
     "data": {
      "text/html": [
       "<div>\n",
       "<style scoped>\n",
       "    .dataframe tbody tr th:only-of-type {\n",
       "        vertical-align: middle;\n",
       "    }\n",
       "\n",
       "    .dataframe tbody tr th {\n",
       "        vertical-align: top;\n",
       "    }\n",
       "\n",
       "    .dataframe thead tr th {\n",
       "        text-align: left;\n",
       "    }\n",
       "\n",
       "    .dataframe thead tr:last-of-type th {\n",
       "        text-align: right;\n",
       "    }\n",
       "</style>\n",
       "<table border=\"1\" class=\"dataframe\">\n",
       "  <thead>\n",
       "    <tr>\n",
       "      <th></th>\n",
       "      <th colspan=\"6\" halign=\"left\">time_running</th>\n",
       "      <th colspan=\"6\" halign=\"left\">total_size</th>\n",
       "    </tr>\n",
       "    <tr>\n",
       "      <th></th>\n",
       "      <th>count</th>\n",
       "      <th>mean</th>\n",
       "      <th>std</th>\n",
       "      <th>min</th>\n",
       "      <th>50%</th>\n",
       "      <th>max</th>\n",
       "      <th>count</th>\n",
       "      <th>mean</th>\n",
       "      <th>std</th>\n",
       "      <th>min</th>\n",
       "      <th>50%</th>\n",
       "      <th>max</th>\n",
       "    </tr>\n",
       "    <tr>\n",
       "      <th>method</th>\n",
       "      <th></th>\n",
       "      <th></th>\n",
       "      <th></th>\n",
       "      <th></th>\n",
       "      <th></th>\n",
       "      <th></th>\n",
       "      <th></th>\n",
       "      <th></th>\n",
       "      <th></th>\n",
       "      <th></th>\n",
       "      <th></th>\n",
       "      <th></th>\n",
       "    </tr>\n",
       "  </thead>\n",
       "  <tbody>\n",
       "    <tr>\n",
       "      <th>evaluate_schnet</th>\n",
       "      <td>56.0</td>\n",
       "      <td>23.349641</td>\n",
       "      <td>4.702948</td>\n",
       "      <td>15.405792</td>\n",
       "      <td>23.191757</td>\n",
       "      <td>32.684080</td>\n",
       "      <td>56.0</td>\n",
       "      <td>68.607857</td>\n",
       "      <td>1.742081</td>\n",
       "      <td>66.955605</td>\n",
       "      <td>68.584641</td>\n",
       "      <td>72.237273</td>\n",
       "    </tr>\n",
       "    <tr>\n",
       "      <th>run_calculator</th>\n",
       "      <td>504.0</td>\n",
       "      <td>77.593309</td>\n",
       "      <td>52.089568</td>\n",
       "      <td>3.280480</td>\n",
       "      <td>63.535633</td>\n",
       "      <td>465.077959</td>\n",
       "      <td>504.0</td>\n",
       "      <td>0.019672</td>\n",
       "      <td>0.008061</td>\n",
       "      <td>0.001821</td>\n",
       "      <td>0.020513</td>\n",
       "      <td>0.031122</td>\n",
       "    </tr>\n",
       "    <tr>\n",
       "      <th>run_dynamics</th>\n",
       "      <td>344.0</td>\n",
       "      <td>157.482925</td>\n",
       "      <td>57.474486</td>\n",
       "      <td>11.265178</td>\n",
       "      <td>164.396518</td>\n",
       "      <td>300.419477</td>\n",
       "      <td>344.0</td>\n",
       "      <td>3.392196</td>\n",
       "      <td>0.519610</td>\n",
       "      <td>2.309357</td>\n",
       "      <td>3.401288</td>\n",
       "      <td>4.141825</td>\n",
       "    </tr>\n",
       "    <tr>\n",
       "      <th>train_schnet</th>\n",
       "      <td>56.0</td>\n",
       "      <td>1736.897808</td>\n",
       "      <td>320.011748</td>\n",
       "      <td>1046.006736</td>\n",
       "      <td>1786.792554</td>\n",
       "      <td>2246.722204</td>\n",
       "      <td>56.0</td>\n",
       "      <td>14.263736</td>\n",
       "      <td>0.898039</td>\n",
       "      <td>13.062477</td>\n",
       "      <td>14.095425</td>\n",
       "      <td>15.943191</td>\n",
       "    </tr>\n",
       "  </tbody>\n",
       "</table>\n",
       "</div>"
      ],
      "text/plain": [
       "                time_running                                        \\\n",
       "                       count         mean         std          min   \n",
       "method                                                               \n",
       "evaluate_schnet         56.0    23.349641    4.702948    15.405792   \n",
       "run_calculator         504.0    77.593309   52.089568     3.280480   \n",
       "run_dynamics           344.0   157.482925   57.474486    11.265178   \n",
       "train_schnet            56.0  1736.897808  320.011748  1046.006736   \n",
       "\n",
       "                                          total_size                       \\\n",
       "                         50%          max      count       mean       std   \n",
       "method                                                                      \n",
       "evaluate_schnet    23.191757    32.684080       56.0  68.607857  1.742081   \n",
       "run_calculator     63.535633   465.077959      504.0   0.019672  0.008061   \n",
       "run_dynamics      164.396518   300.419477      344.0   3.392196  0.519610   \n",
       "train_schnet     1786.792554  2246.722204       56.0  14.263736  0.898039   \n",
       "\n",
       "                                                  \n",
       "                       min        50%        max  \n",
       "method                                            \n",
       "evaluate_schnet  66.955605  68.584641  72.237273  \n",
       "run_calculator    0.001821   0.020513   0.031122  \n",
       "run_dynamics      2.309357   3.401288   4.141825  \n",
       "train_schnet     13.062477  14.095425  15.943191  "
      ]
     },
     "execution_count": 4,
     "metadata": {},
     "output_type": "execute_result"
    }
   ],
   "source": [
    "tasks.groupby('method').describe(percentiles=[0.5])"
   ]
  },
  {
   "cell_type": "markdown",
   "id": "c6a82fd2-0c1d-4c56-8473-428301586488",
   "metadata": {},
   "source": []
  }
 ],
 "metadata": {
  "kernelspec": {
   "display_name": "Python 3 (ipykernel)",
   "language": "python",
   "name": "python3"
  },
  "language_info": {
   "codemirror_mode": {
    "name": "ipython",
    "version": 3
   },
   "file_extension": ".py",
   "mimetype": "text/x-python",
   "name": "python",
   "nbconvert_exporter": "python",
   "pygments_lexer": "ipython3",
   "version": "3.10.8"
  }
 },
 "nbformat": 4,
 "nbformat_minor": 5
}
