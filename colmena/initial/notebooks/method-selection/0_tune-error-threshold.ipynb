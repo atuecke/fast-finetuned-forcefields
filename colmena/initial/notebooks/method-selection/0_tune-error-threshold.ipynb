{
 "cells": [
  {
   "cell_type": "markdown",
   "id": "4cea8ffd-3b11-40fb-ac88-148d0e569187",
   "metadata": {},
   "source": [
    "# Evaluate the Effect of Error Threshold\n",
    "A decision in training is how much we should trade off between structures which are similar to the training set and those which might be unrealistic. \n",
    "We control this tradeoff by changing how large of an error we target when producing new structures.\n"
   ]
  },
  {
   "cell_type": "code",
   "execution_count": 1,
   "id": "bf7d656f-8756-45f3-9c22-2c23a66302e9",
   "metadata": {
    "tags": []
   },
   "outputs": [],
   "source": [
    "%matplotlib inline\n",
    "from matplotlib import pyplot as plt\n",
    "from pathlib import Path\n",
    "import pandas as pd\n",
    "import utils\n",
    "import json"
   ]
  },
  {
   "cell_type": "markdown",
   "id": "bb6cff87-7a9c-4257-be38-bbd55ea6f49f",
   "metadata": {},
   "source": [
    "## Get the runs\n",
    "We want the runs named `ttm_md-1000_thr-*`"
   ]
  },
  {
   "cell_type": "code",
   "execution_count": 2,
   "id": "63dac336-0f54-480d-8d3d-18e63141fc70",
   "metadata": {
    "tags": []
   },
   "outputs": [
    {
     "name": "stdout",
     "output_type": "stream",
     "text": [
      "Found 6 runs\n"
     ]
    }
   ],
   "source": [
    "runs = list(Path('../prod-runs/').glob('ttm_md-1000_thr-*_T-300'))\n",
    "print(f'Found {len(runs)} runs')"
   ]
  },
  {
   "cell_type": "markdown",
   "id": "cd7b6344-5f0a-4ae2-9a58-92584129b823",
   "metadata": {},
   "source": [
    "Make sure training parameters for the network were the same"
   ]
  },
  {
   "cell_type": "code",
   "execution_count": 3,
   "id": "152bd890-6019-4110-97c8-ed2ecb384ee1",
   "metadata": {
    "tags": []
   },
   "outputs": [],
   "source": [
    "params = json.loads((runs[0] / 'final-model' / 'params.json').read_text())\n",
    "params.pop('run_dir')\n",
    "for run in runs:\n",
    "    my_params = json.loads((run / 'final-model' / 'params.json').read_text())\n",
    "    my_params.pop('run_dir')\n",
    "    assert my_params == params, f'{run} is different'"
   ]
  },
  {
   "cell_type": "markdown",
   "id": "f2dc9fad-f620-4a8c-8977-2d153e4167ba",
   "metadata": {},
   "source": [
    "## Measure the Errors on a Hold-out Set\n",
    "Get the errors for each network in force and energy for a set of structures produced by running molecular dynamics with TTM."
   ]
  },
  {
   "cell_type": "code",
   "execution_count": 4,
   "id": "01a9345d-c60e-41d8-9cc6-edb664f1bb1d",
   "metadata": {
    "tags": []
   },
   "outputs": [],
   "source": [
    "data = utils.assess_against_holdout(runs, ['energy_tolerance']).rename(columns={'energy_tolerance': 'energy_tol'}).sort_values('energy_tol')"
   ]
  },
  {
   "cell_type": "markdown",
   "id": "7909b3f6-171f-42b4-909d-ace51d11290a",
   "metadata": {},
   "source": [
    "We now have the errors and for each error tolerance"
   ]
  },
  {
   "cell_type": "code",
   "execution_count": 5,
   "id": "bbee2cd6-5e9f-48c5-8f43-2f958a38d366",
   "metadata": {
    "tags": []
   },
   "outputs": [
    {
     "data": {
      "text/html": [
       "<div>\n",
       "<style scoped>\n",
       "    .dataframe tbody tr th:only-of-type {\n",
       "        vertical-align: middle;\n",
       "    }\n",
       "\n",
       "    .dataframe tbody tr th {\n",
       "        vertical-align: top;\n",
       "    }\n",
       "\n",
       "    .dataframe thead th {\n",
       "        text-align: right;\n",
       "    }\n",
       "</style>\n",
       "<table border=\"1\" class=\"dataframe\">\n",
       "  <thead>\n",
       "    <tr style=\"text-align: right;\">\n",
       "      <th></th>\n",
       "      <th>name</th>\n",
       "      <th>energy_tol</th>\n",
       "      <th>n_duplicates</th>\n",
       "      <th>energy_error_per_atom-mean</th>\n",
       "      <th>energy_error_per_atom-sem</th>\n",
       "      <th>force_rmsd-mean</th>\n",
       "      <th>force_rmsd-sem</th>\n",
       "      <th>energy_error_per_atom-init-mean</th>\n",
       "      <th>energy_error_per_atom-init-sem</th>\n",
       "      <th>force_rmsd-init-mean</th>\n",
       "      <th>force_rmsd-init-sem</th>\n",
       "    </tr>\n",
       "  </thead>\n",
       "  <tbody>\n",
       "    <tr>\n",
       "      <th>3</th>\n",
       "      <td>ttm_md-1000_thr-0.001_T-300</td>\n",
       "      <td>0.0010</td>\n",
       "      <td>1</td>\n",
       "      <td>0.740895</td>\n",
       "      <td>0.033320</td>\n",
       "      <td>0.175827</td>\n",
       "      <td>0.003412</td>\n",
       "      <td>0.802171</td>\n",
       "      <td>0.039401</td>\n",
       "      <td>0.256208</td>\n",
       "      <td>0.005910</td>\n",
       "    </tr>\n",
       "    <tr>\n",
       "      <th>5</th>\n",
       "      <td>ttm_md-1000_thr-0.0025_T-300</td>\n",
       "      <td>0.0025</td>\n",
       "      <td>1</td>\n",
       "      <td>0.715684</td>\n",
       "      <td>0.030650</td>\n",
       "      <td>0.172254</td>\n",
       "      <td>0.003615</td>\n",
       "      <td>0.802171</td>\n",
       "      <td>0.039401</td>\n",
       "      <td>0.256208</td>\n",
       "      <td>0.005910</td>\n",
       "    </tr>\n",
       "    <tr>\n",
       "      <th>4</th>\n",
       "      <td>ttm_md-1000_thr-0.005_T-300</td>\n",
       "      <td>0.0050</td>\n",
       "      <td>2</td>\n",
       "      <td>1.494332</td>\n",
       "      <td>0.059111</td>\n",
       "      <td>0.224929</td>\n",
       "      <td>0.005687</td>\n",
       "      <td>0.802171</td>\n",
       "      <td>0.027773</td>\n",
       "      <td>0.256208</td>\n",
       "      <td>0.004166</td>\n",
       "    </tr>\n",
       "    <tr>\n",
       "      <th>0</th>\n",
       "      <td>ttm_md-1000_thr-0.010_T-300</td>\n",
       "      <td>0.0100</td>\n",
       "      <td>1</td>\n",
       "      <td>1.293143</td>\n",
       "      <td>0.086856</td>\n",
       "      <td>0.233530</td>\n",
       "      <td>0.006289</td>\n",
       "      <td>0.802171</td>\n",
       "      <td>0.039401</td>\n",
       "      <td>0.256208</td>\n",
       "      <td>0.005910</td>\n",
       "    </tr>\n",
       "    <tr>\n",
       "      <th>2</th>\n",
       "      <td>ttm_md-1000_thr-0.015_T-300</td>\n",
       "      <td>0.0150</td>\n",
       "      <td>1</td>\n",
       "      <td>2.330184</td>\n",
       "      <td>0.184165</td>\n",
       "      <td>0.337601</td>\n",
       "      <td>0.007600</td>\n",
       "      <td>0.802171</td>\n",
       "      <td>0.039401</td>\n",
       "      <td>0.256208</td>\n",
       "      <td>0.005910</td>\n",
       "    </tr>\n",
       "    <tr>\n",
       "      <th>1</th>\n",
       "      <td>ttm_md-1000_thr-0.020_T-300</td>\n",
       "      <td>0.0200</td>\n",
       "      <td>1</td>\n",
       "      <td>3.064631</td>\n",
       "      <td>0.145119</td>\n",
       "      <td>0.449146</td>\n",
       "      <td>0.017260</td>\n",
       "      <td>0.802171</td>\n",
       "      <td>0.039401</td>\n",
       "      <td>0.256208</td>\n",
       "      <td>0.005910</td>\n",
       "    </tr>\n",
       "  </tbody>\n",
       "</table>\n",
       "</div>"
      ],
      "text/plain": [
       "                           name  energy_tol  n_duplicates  \\\n",
       "3   ttm_md-1000_thr-0.001_T-300      0.0010             1   \n",
       "5  ttm_md-1000_thr-0.0025_T-300      0.0025             1   \n",
       "4   ttm_md-1000_thr-0.005_T-300      0.0050             2   \n",
       "0   ttm_md-1000_thr-0.010_T-300      0.0100             1   \n",
       "2   ttm_md-1000_thr-0.015_T-300      0.0150             1   \n",
       "1   ttm_md-1000_thr-0.020_T-300      0.0200             1   \n",
       "\n",
       "   energy_error_per_atom-mean  energy_error_per_atom-sem  force_rmsd-mean  \\\n",
       "3                    0.740895                   0.033320         0.175827   \n",
       "5                    0.715684                   0.030650         0.172254   \n",
       "4                    1.494332                   0.059111         0.224929   \n",
       "0                    1.293143                   0.086856         0.233530   \n",
       "2                    2.330184                   0.184165         0.337601   \n",
       "1                    3.064631                   0.145119         0.449146   \n",
       "\n",
       "   force_rmsd-sem  energy_error_per_atom-init-mean  \\\n",
       "3        0.003412                         0.802171   \n",
       "5        0.003615                         0.802171   \n",
       "4        0.005687                         0.802171   \n",
       "0        0.006289                         0.802171   \n",
       "2        0.007600                         0.802171   \n",
       "1        0.017260                         0.802171   \n",
       "\n",
       "   energy_error_per_atom-init-sem  force_rmsd-init-mean  force_rmsd-init-sem  \n",
       "3                        0.039401              0.256208             0.005910  \n",
       "5                        0.039401              0.256208             0.005910  \n",
       "4                        0.027773              0.256208             0.004166  \n",
       "0                        0.039401              0.256208             0.005910  \n",
       "2                        0.039401              0.256208             0.005910  \n",
       "1                        0.039401              0.256208             0.005910  "
      ]
     },
     "execution_count": 5,
     "metadata": {},
     "output_type": "execute_result"
    }
   ],
   "source": [
    "data"
   ]
  },
  {
   "cell_type": "markdown",
   "id": "2dbf9db5-505b-4eba-96ae-3d7cd11c7302",
   "metadata": {},
   "source": [
    "Make a figure"
   ]
  },
  {
   "cell_type": "code",
   "execution_count": 6,
   "id": "adc9061d-7086-45e4-b3f1-da838039aa90",
   "metadata": {
    "tags": []
   },
   "outputs": [
    {
     "data": {
      "text/plain": [
       "Text(0.5, 0, 'Target Error (meV/atom)')"
      ]
     },
     "execution_count": 6,
     "metadata": {},
     "output_type": "execute_result"
    },
    {
     "data": {
      "image/png": "[encoded data removed]",
      "text/plain": [
       "<Figure size 350x275 with 2 Axes>"
      ]
     },
     "metadata": {},
     "output_type": "display_data"
    }
   ],
   "source": [
    "fig, axs = plt.subplots(2, 1, sharex=True, figsize=(3.5, 2.75))\n",
    "\n",
    "axs[0].set_xlim([0, 21])\n",
    "for ax, t in zip(axs, ['energy_error_per_atom', 'force_rmsd']):\n",
    "    # Plot the initial model\n",
    "    ax.errorbar(data['energy_tol'] * 1000, data[f'{t}-mean'], fmt='--o', yerr=data[f'{t}-sem'])\n",
    "    \n",
    "    # Plot the initial model\n",
    "    row = data.iloc[0]\n",
    "    ax.fill_between(ax.get_xlim(),\n",
    "                    y1=row[f'{t}-init-mean'] + row[f'{t}-init-sem'],\n",
    "                    y2=row[f'{t}-init-mean'] - row[f'{t}-init-sem'],\n",
    "                   color='gray', alpha=0.5)\n",
    "    ax.text(20, row[f'{t}-init-mean'] + row[f'{t}-init-sem'], 'Starting\\nModel',\n",
    "           ha='right', va='bottom', fontsize=8)\n",
    "    \n",
    "axs[0].set_ylabel('Energy MAE\\n(meV/atom)')\n",
    "axs[1].set_ylabel('Force RMSD\\n(eV/Ang)')\n",
    "axs[-1].set_xlabel('Target Error (meV/atom)')"
   ]
  },
  {
   "cell_type": "markdown",
   "id": "ce62a4f4-7b8d-4978-be79-2095b8a261fb",
   "metadata": {},
   "source": [
    "Smaller error tolernaces is at least better for molecular dynamics structures sampled with TTM.\n",
    "\n",
    "This is good, but does not show how well the model samples on its own."
   ]
  },
  {
   "cell_type": "markdown",
   "id": "45e17e45-7837-43da-95fa-dd8305e25dff",
   "metadata": {},
   "source": [
    "## Evaluate suitability for basin hobbing\n",
    "We ran MCTBP with each potential for 100 steps then evaluated the energy of the minima it proposed using TTM. \n",
    "We measure the performance of the model based on a few different metrics:\n",
    "- Energy and Force error between ML and TTM for the proposed minima to measure the quality of the potential for these structures.\n",
    "- Maximum force for the proposed structure, as computed with TTM. A measure of how close to the relaxed geometry we are\n",
    "- Ranking performance: Whether the minima ordered by energy via ML is close to the ranking via TTM. "
   ]
  },
  {
   "cell_type": "code",
   "execution_count": 7,
   "id": "45b88405-31af-445c-b218-f7e7b8c091d3",
   "metadata": {},
   "outputs": [
    {
     "name": "stdout",
     "output_type": "stream",
     "text": [
      "Could not assess /home/lward/Work/ExaLearn/fast-finedtuned-forcefields/colmena/initial/runs/ttm-md-23Mar14-163602-24b53d for ../prod-runs/ttm_md-1000_thr-0.005_T-300\n"
     ]
    }
   ],
   "source": [
    "data = utils.assess_from_mctbp_runs(runs, ['energy_tolerance']).rename(columns={'energy_tolerance': 'energy_tol'}).sort_values('energy_tol')"
   ]
  },
  {
   "cell_type": "markdown",
   "id": "9dcd33fe-f3eb-4860-b038-e50565386a03",
   "metadata": {},
   "source": [
    "Summarize all runs"
   ]
  },
  {
   "cell_type": "code",
   "execution_count": 8,
   "id": "2886dc1e-4601-429d-99a3-f28a9fd9b129",
   "metadata": {},
   "outputs": [
    {
     "data": {
      "text/html": [
       "<div>\n",
       "<style scoped>\n",
       "    .dataframe tbody tr th:only-of-type {\n",
       "        vertical-align: middle;\n",
       "    }\n",
       "\n",
       "    .dataframe tbody tr th {\n",
       "        vertical-align: top;\n",
       "    }\n",
       "\n",
       "    .dataframe thead th {\n",
       "        text-align: right;\n",
       "    }\n",
       "</style>\n",
       "<table border=\"1\" class=\"dataframe\">\n",
       "  <thead>\n",
       "    <tr style=\"text-align: right;\">\n",
       "      <th></th>\n",
       "      <th>name</th>\n",
       "      <th>energy_tol</th>\n",
       "      <th>n_duplicates</th>\n",
       "      <th>number_sampled</th>\n",
       "      <th>energy_error-mean</th>\n",
       "      <th>energy_error-sem</th>\n",
       "      <th>force_error-mean</th>\n",
       "      <th>force_error-sem</th>\n",
       "      <th>max_force-mean</th>\n",
       "      <th>max_force-sem</th>\n",
       "      <th>tau-mean</th>\n",
       "      <th>tau-sem</th>\n",
       "    </tr>\n",
       "  </thead>\n",
       "  <tbody>\n",
       "    <tr>\n",
       "      <th>3</th>\n",
       "      <td>ttm_md-1000_thr-0.001_T-300</td>\n",
       "      <td>0.0010</td>\n",
       "      <td>1</td>\n",
       "      <td>1579</td>\n",
       "      <td>32.282207</td>\n",
       "      <td>1.019637</td>\n",
       "      <td>4.946066</td>\n",
       "      <td>0.101764</td>\n",
       "      <td>2.642911</td>\n",
       "      <td>0.060444</td>\n",
       "      <td>0.442001</td>\n",
       "      <td>0.059882</td>\n",
       "    </tr>\n",
       "    <tr>\n",
       "      <th>5</th>\n",
       "      <td>ttm_md-1000_thr-0.0025_T-300</td>\n",
       "      <td>0.0025</td>\n",
       "      <td>1</td>\n",
       "      <td>1533</td>\n",
       "      <td>37.641752</td>\n",
       "      <td>1.049878</td>\n",
       "      <td>5.213443</td>\n",
       "      <td>0.090260</td>\n",
       "      <td>2.751766</td>\n",
       "      <td>0.052648</td>\n",
       "      <td>0.510097</td>\n",
       "      <td>0.049663</td>\n",
       "    </tr>\n",
       "    <tr>\n",
       "      <th>4</th>\n",
       "      <td>ttm_md-1000_thr-0.005_T-300</td>\n",
       "      <td>0.0050</td>\n",
       "      <td>1</td>\n",
       "      <td>1608</td>\n",
       "      <td>120.648891</td>\n",
       "      <td>2.786785</td>\n",
       "      <td>11.340974</td>\n",
       "      <td>0.172133</td>\n",
       "      <td>4.561690</td>\n",
       "      <td>0.055583</td>\n",
       "      <td>0.052273</td>\n",
       "      <td>0.074449</td>\n",
       "    </tr>\n",
       "    <tr>\n",
       "      <th>0</th>\n",
       "      <td>ttm_md-1000_thr-0.010_T-300</td>\n",
       "      <td>0.0100</td>\n",
       "      <td>1</td>\n",
       "      <td>1605</td>\n",
       "      <td>70.435880</td>\n",
       "      <td>1.695377</td>\n",
       "      <td>8.590225</td>\n",
       "      <td>0.138618</td>\n",
       "      <td>4.278350</td>\n",
       "      <td>0.064712</td>\n",
       "      <td>0.155359</td>\n",
       "      <td>0.086607</td>\n",
       "    </tr>\n",
       "    <tr>\n",
       "      <th>2</th>\n",
       "      <td>ttm_md-1000_thr-0.015_T-300</td>\n",
       "      <td>0.0150</td>\n",
       "      <td>1</td>\n",
       "      <td>1581</td>\n",
       "      <td>129.233666</td>\n",
       "      <td>3.531328</td>\n",
       "      <td>12.216515</td>\n",
       "      <td>0.258257</td>\n",
       "      <td>5.053175</td>\n",
       "      <td>0.130531</td>\n",
       "      <td>0.094797</td>\n",
       "      <td>0.077112</td>\n",
       "    </tr>\n",
       "    <tr>\n",
       "      <th>1</th>\n",
       "      <td>ttm_md-1000_thr-0.020_T-300</td>\n",
       "      <td>0.0200</td>\n",
       "      <td>1</td>\n",
       "      <td>1616</td>\n",
       "      <td>26.625991</td>\n",
       "      <td>0.718212</td>\n",
       "      <td>5.409582</td>\n",
       "      <td>0.083087</td>\n",
       "      <td>2.562386</td>\n",
       "      <td>0.048452</td>\n",
       "      <td>0.532079</td>\n",
       "      <td>0.053822</td>\n",
       "    </tr>\n",
       "  </tbody>\n",
       "</table>\n",
       "</div>"
      ],
      "text/plain": [
       "                           name  energy_tol  n_duplicates  number_sampled  \\\n",
       "3   ttm_md-1000_thr-0.001_T-300      0.0010             1            1579   \n",
       "5  ttm_md-1000_thr-0.0025_T-300      0.0025             1            1533   \n",
       "4   ttm_md-1000_thr-0.005_T-300      0.0050             1            1608   \n",
       "0   ttm_md-1000_thr-0.010_T-300      0.0100             1            1605   \n",
       "2   ttm_md-1000_thr-0.015_T-300      0.0150             1            1581   \n",
       "1   ttm_md-1000_thr-0.020_T-300      0.0200             1            1616   \n",
       "\n",
       "   energy_error-mean  energy_error-sem  force_error-mean  force_error-sem  \\\n",
       "3          32.282207          1.019637          4.946066         0.101764   \n",
       "5          37.641752          1.049878          5.213443         0.090260   \n",
       "4         120.648891          2.786785         11.340974         0.172133   \n",
       "0          70.435880          1.695377          8.590225         0.138618   \n",
       "2         129.233666          3.531328         12.216515         0.258257   \n",
       "1          26.625991          0.718212          5.409582         0.083087   \n",
       "\n",
       "   max_force-mean  max_force-sem  tau-mean   tau-sem  \n",
       "3        2.642911       0.060444  0.442001  0.059882  \n",
       "5        2.751766       0.052648  0.510097  0.049663  \n",
       "4        4.561690       0.055583  0.052273  0.074449  \n",
       "0        4.278350       0.064712  0.155359  0.086607  \n",
       "2        5.053175       0.130531  0.094797  0.077112  \n",
       "1        2.562386       0.048452  0.532079  0.053822  "
      ]
     },
     "execution_count": 8,
     "metadata": {},
     "output_type": "execute_result"
    }
   ],
   "source": [
    "data"
   ]
  },
  {
   "cell_type": "markdown",
   "id": "f4bf6eff-1583-446f-9a15-c325d5797f4b",
   "metadata": {},
   "source": [
    "Plot the errors"
   ]
  },
  {
   "cell_type": "code",
   "execution_count": 9,
   "id": "db3a9bf5-9fc8-4091-ba01-0ab19da92743",
   "metadata": {},
   "outputs": [
    {
     "data": {
      "image/png": "[encoded data removed]",
      "text/plain": [
       "<Figure size 350x425 with 4 Axes>"
      ]
     },
     "metadata": {},
     "output_type": "display_data"
    }
   ],
   "source": [
    "fig, axs = plt.subplots(4, 1, sharex=True, figsize=(3.5, 4.25))\n",
    "\n",
    "axs[0].set_xlim([0, 21])\n",
    "for ax, t in zip(axs, ['energy_error', 'force_error', 'max_force', 'tau']):\n",
    "    ax.errorbar(data['energy_tol'] * 1000, data[f'{t}-mean'], fmt='--o', yerr=data[f'{t}-sem'])\n",
    "    \n",
    "axs[0].set_ylabel('Energy MAE\\n(meV/atom)')\n",
    "axs[1].set_ylabel('Force RMSD\\n(eV/Ang)')\n",
    "axs[2].set_ylabel('Max Force\\n(eV/Ang)')\n",
    "axs[3].set_ylabel('Ranking\\nPerformance')\n",
    "axs[-1].set_xlabel('Target Error (meV/atom)')\n",
    "\n",
    "fig.tight_layout()"
   ]
  },
  {
   "cell_type": "markdown",
   "id": "8ed2aa8c-d2ad-41c8-a4b7-b51e4abc12a4",
   "metadata": {},
   "source": [
    "We get poor performance with values of the target error between 5-15 meV/atom. It seems either a small tolerance (better model) or a large tolerance (sampling high-energy structures) are better. "
   ]
  },
  {
   "cell_type": "markdown",
   "id": "a3fadafb-7e5e-4bef-b592-4cebe1aff389",
   "metadata": {},
   "source": [
    "## Conclusion\n",
    "We want a small target error. 1 meV/atom gives us the best performance against the holdout set and produces a model that ranks structures well."
   ]
  },
  {
   "cell_type": "code",
   "execution_count": null,
   "id": "2c22b5a3-cbc6-47ce-945a-dd16fac8e78b",
   "metadata": {},
   "outputs": [],
   "source": []
  }
 ],
 "metadata": {
  "kernelspec": {
   "display_name": "Python 3 (ipykernel)",
   "language": "python",
   "name": "python3"
  },
  "language_info": {
   "codemirror_mode": {
    "name": "ipython",
    "version": 3
   },
   "file_extension": ".py",
   "mimetype": "text/x-python",
   "name": "python",
   "nbconvert_exporter": "python",
   "pygments_lexer": "ipython3",
   "version": "3.10.8"
  }
 },
 "nbformat": 4,
 "nbformat_minor": 5
}
