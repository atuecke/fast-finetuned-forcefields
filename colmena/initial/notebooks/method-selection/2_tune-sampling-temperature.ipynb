{
 "cells": [
  {
   "cell_type": "markdown",
   "id": "4cea8ffd-3b11-40fb-ac88-148d0e569187",
   "metadata": {},
   "source": [
    "# Evaluate the Effect of Temperature\n",
    "We can choose different temperature for MD sampling, which has an effect of the energy of the structures created.\n",
    "Higher temperature $\\rightarrow$ higher energy."
   ]
  },
  {
   "cell_type": "code",
   "execution_count": 1,
   "id": "bf7d656f-8756-45f3-9c22-2c23a66302e9",
   "metadata": {},
   "outputs": [],
   "source": [
    "%matplotlib inline\n",
    "from matplotlib import pyplot as plt\n",
    "from pathlib import Path\n",
    "import pandas as pd\n",
    "import utils\n",
    "import json"
   ]
  },
  {
   "cell_type": "markdown",
   "id": "bb6cff87-7a9c-4257-be38-bbd55ea6f49f",
   "metadata": {},
   "source": [
    "## Get the runs\n",
    "We want the runs named `ttm_md-1000_thr-*`"
   ]
  },
  {
   "cell_type": "code",
   "execution_count": 2,
   "id": "63dac336-0f54-480d-8d3d-18e63141fc70",
   "metadata": {
    "tags": []
   },
   "outputs": [
    {
     "name": "stdout",
     "output_type": "stream",
     "text": [
      "Found 11 runs\n"
     ]
    }
   ],
   "source": [
    "runs = list(Path('../prod-runs/').glob('ttm_md-3000_thr-0.001_T-*'))\n",
    "print(f'Found {len(runs)} runs')"
   ]
  },
  {
   "cell_type": "markdown",
   "id": "cd7b6344-5f0a-4ae2-9a58-92584129b823",
   "metadata": {},
   "source": [
    "Make sure training parameters for the network were the same"
   ]
  },
  {
   "cell_type": "code",
   "execution_count": 3,
   "id": "152bd890-6019-4110-97c8-ed2ecb384ee1",
   "metadata": {},
   "outputs": [],
   "source": [
    "params = json.loads((runs[0] / 'final-model' / 'params.json').read_text())\n",
    "for p in ['run_dir', 'overwrite']:\n",
    "    params.pop(p)\n",
    "for run in runs:\n",
    "    duplicates = json.loads((run / 'duplicates.json').read_text())\n",
    "    for dup in duplicates:\n",
    "        dup = Path(dup)\n",
    "        my_params = json.loads((dup / 'final-model' / 'params.json').read_text())\n",
    "        for p in ['run_dir', 'overwrite']:\n",
    "            my_params.pop(p)\n",
    "        assert my_params == params, f'{dup} is different than {runs[0]}. {my_params} != {params}'"
   ]
  },
  {
   "cell_type": "markdown",
   "id": "f2dc9fad-f620-4a8c-8977-2d153e4167ba",
   "metadata": {},
   "source": [
    "## Measure the Errors on a Hold-out Set\n",
    "Get the errors for each network in force and energy for a set of structures produced by running molecular dynamics with TTM."
   ]
  },
  {
   "cell_type": "code",
   "execution_count": 4,
   "id": "01a9345d-c60e-41d8-9cc6-edb664f1bb1d",
   "metadata": {},
   "outputs": [],
   "source": [
    "data = utils.assess_against_holdout(runs, ['dynamics_temp']).sort_values('dynamics_temp')"
   ]
  },
  {
   "cell_type": "markdown",
   "id": "7909b3f6-171f-42b4-909d-ace51d11290a",
   "metadata": {},
   "source": [
    "We now have the errors and for each error tolerance"
   ]
  },
  {
   "cell_type": "code",
   "execution_count": 5,
   "id": "bbee2cd6-5e9f-48c5-8f43-2f958a38d366",
   "metadata": {},
   "outputs": [
    {
     "data": {
      "text/html": [
       "<div>\n",
       "<style scoped>\n",
       "    .dataframe tbody tr th:only-of-type {\n",
       "        vertical-align: middle;\n",
       "    }\n",
       "\n",
       "    .dataframe tbody tr th {\n",
       "        vertical-align: top;\n",
       "    }\n",
       "\n",
       "    .dataframe thead th {\n",
       "        text-align: right;\n",
       "    }\n",
       "</style>\n",
       "<table border=\"1\" class=\"dataframe\">\n",
       "  <thead>\n",
       "    <tr style=\"text-align: right;\">\n",
       "      <th></th>\n",
       "      <th>name</th>\n",
       "      <th>dynamics_temp</th>\n",
       "      <th>n_duplicates</th>\n",
       "      <th>energy_error_per_atom-mean</th>\n",
       "      <th>energy_error_per_atom-sem</th>\n",
       "      <th>force_rmsd-mean</th>\n",
       "      <th>force_rmsd-sem</th>\n",
       "      <th>energy_error_per_atom-init-mean</th>\n",
       "      <th>energy_error_per_atom-init-sem</th>\n",
       "      <th>force_rmsd-init-mean</th>\n",
       "      <th>force_rmsd-init-sem</th>\n",
       "    </tr>\n",
       "  </thead>\n",
       "  <tbody>\n",
       "    <tr>\n",
       "      <th>6</th>\n",
       "      <td>ttm_md-3000_thr-0.001_T-50</td>\n",
       "      <td>50.0</td>\n",
       "      <td>1</td>\n",
       "      <td>0.813438</td>\n",
       "      <td>0.042436</td>\n",
       "      <td>0.194746</td>\n",
       "      <td>0.003576</td>\n",
       "      <td>0.802171</td>\n",
       "      <td>0.039401</td>\n",
       "      <td>0.256208</td>\n",
       "      <td>0.005910</td>\n",
       "    </tr>\n",
       "    <tr>\n",
       "      <th>7</th>\n",
       "      <td>ttm_md-3000_thr-0.001_T-100</td>\n",
       "      <td>100.0</td>\n",
       "      <td>1</td>\n",
       "      <td>0.739428</td>\n",
       "      <td>0.031847</td>\n",
       "      <td>0.181103</td>\n",
       "      <td>0.003195</td>\n",
       "      <td>0.802171</td>\n",
       "      <td>0.039401</td>\n",
       "      <td>0.256208</td>\n",
       "      <td>0.005910</td>\n",
       "    </tr>\n",
       "    <tr>\n",
       "      <th>0</th>\n",
       "      <td>ttm_md-3000_thr-0.001_T-200</td>\n",
       "      <td>200.0</td>\n",
       "      <td>2</td>\n",
       "      <td>0.709951</td>\n",
       "      <td>0.021643</td>\n",
       "      <td>0.169630</td>\n",
       "      <td>0.002172</td>\n",
       "      <td>0.802171</td>\n",
       "      <td>0.027773</td>\n",
       "      <td>0.256208</td>\n",
       "      <td>0.004166</td>\n",
       "    </tr>\n",
       "    <tr>\n",
       "      <th>9</th>\n",
       "      <td>ttm_md-3000_thr-0.001_T-300</td>\n",
       "      <td>300.0</td>\n",
       "      <td>1</td>\n",
       "      <td>0.752200</td>\n",
       "      <td>0.029565</td>\n",
       "      <td>0.162989</td>\n",
       "      <td>0.003336</td>\n",
       "      <td>0.802171</td>\n",
       "      <td>0.039401</td>\n",
       "      <td>0.256208</td>\n",
       "      <td>0.005910</td>\n",
       "    </tr>\n",
       "    <tr>\n",
       "      <th>5</th>\n",
       "      <td>ttm_md-3000_thr-0.001_T-400</td>\n",
       "      <td>400.0</td>\n",
       "      <td>1</td>\n",
       "      <td>0.805859</td>\n",
       "      <td>0.034898</td>\n",
       "      <td>0.153852</td>\n",
       "      <td>0.003034</td>\n",
       "      <td>0.802171</td>\n",
       "      <td>0.039401</td>\n",
       "      <td>0.256208</td>\n",
       "      <td>0.005910</td>\n",
       "    </tr>\n",
       "    <tr>\n",
       "      <th>1</th>\n",
       "      <td>ttm_md-3000_thr-0.001_T-500</td>\n",
       "      <td>500.0</td>\n",
       "      <td>2</td>\n",
       "      <td>0.737425</td>\n",
       "      <td>0.021171</td>\n",
       "      <td>0.160135</td>\n",
       "      <td>0.001940</td>\n",
       "      <td>0.802171</td>\n",
       "      <td>0.027773</td>\n",
       "      <td>0.256208</td>\n",
       "      <td>0.004166</td>\n",
       "    </tr>\n",
       "    <tr>\n",
       "      <th>3</th>\n",
       "      <td>ttm_md-3000_thr-0.001_T-600</td>\n",
       "      <td>600.0</td>\n",
       "      <td>1</td>\n",
       "      <td>0.664644</td>\n",
       "      <td>0.029530</td>\n",
       "      <td>0.159910</td>\n",
       "      <td>0.002883</td>\n",
       "      <td>0.802171</td>\n",
       "      <td>0.039401</td>\n",
       "      <td>0.256208</td>\n",
       "      <td>0.005910</td>\n",
       "    </tr>\n",
       "    <tr>\n",
       "      <th>4</th>\n",
       "      <td>ttm_md-3000_thr-0.001_T-700</td>\n",
       "      <td>700.0</td>\n",
       "      <td>1</td>\n",
       "      <td>0.659780</td>\n",
       "      <td>0.028424</td>\n",
       "      <td>0.147555</td>\n",
       "      <td>0.003620</td>\n",
       "      <td>0.802171</td>\n",
       "      <td>0.039401</td>\n",
       "      <td>0.256208</td>\n",
       "      <td>0.005910</td>\n",
       "    </tr>\n",
       "    <tr>\n",
       "      <th>8</th>\n",
       "      <td>ttm_md-3000_thr-0.001_T-800</td>\n",
       "      <td>800.0</td>\n",
       "      <td>1</td>\n",
       "      <td>0.658764</td>\n",
       "      <td>0.026623</td>\n",
       "      <td>0.158586</td>\n",
       "      <td>0.003019</td>\n",
       "      <td>0.802171</td>\n",
       "      <td>0.039401</td>\n",
       "      <td>0.256208</td>\n",
       "      <td>0.005910</td>\n",
       "    </tr>\n",
       "    <tr>\n",
       "      <th>10</th>\n",
       "      <td>ttm_md-3000_thr-0.001_T-900</td>\n",
       "      <td>900.0</td>\n",
       "      <td>1</td>\n",
       "      <td>0.654887</td>\n",
       "      <td>0.027081</td>\n",
       "      <td>0.159911</td>\n",
       "      <td>0.002863</td>\n",
       "      <td>0.802171</td>\n",
       "      <td>0.039401</td>\n",
       "      <td>0.256208</td>\n",
       "      <td>0.005910</td>\n",
       "    </tr>\n",
       "    <tr>\n",
       "      <th>2</th>\n",
       "      <td>ttm_md-3000_thr-0.001_T-1000</td>\n",
       "      <td>1000.0</td>\n",
       "      <td>1</td>\n",
       "      <td>0.636572</td>\n",
       "      <td>0.028096</td>\n",
       "      <td>0.158209</td>\n",
       "      <td>0.002449</td>\n",
       "      <td>0.802171</td>\n",
       "      <td>0.039401</td>\n",
       "      <td>0.256208</td>\n",
       "      <td>0.005910</td>\n",
       "    </tr>\n",
       "  </tbody>\n",
       "</table>\n",
       "</div>"
      ],
      "text/plain": [
       "                            name  dynamics_temp  n_duplicates  \\\n",
       "6     ttm_md-3000_thr-0.001_T-50           50.0             1   \n",
       "7    ttm_md-3000_thr-0.001_T-100          100.0             1   \n",
       "0    ttm_md-3000_thr-0.001_T-200          200.0             2   \n",
       "9    ttm_md-3000_thr-0.001_T-300          300.0             1   \n",
       "5    ttm_md-3000_thr-0.001_T-400          400.0             1   \n",
       "1    ttm_md-3000_thr-0.001_T-500          500.0             2   \n",
       "3    ttm_md-3000_thr-0.001_T-600          600.0             1   \n",
       "4    ttm_md-3000_thr-0.001_T-700          700.0             1   \n",
       "8    ttm_md-3000_thr-0.001_T-800          800.0             1   \n",
       "10   ttm_md-3000_thr-0.001_T-900          900.0             1   \n",
       "2   ttm_md-3000_thr-0.001_T-1000         1000.0             1   \n",
       "\n",
       "    energy_error_per_atom-mean  energy_error_per_atom-sem  force_rmsd-mean  \\\n",
       "6                     0.813438                   0.042436         0.194746   \n",
       "7                     0.739428                   0.031847         0.181103   \n",
       "0                     0.709951                   0.021643         0.169630   \n",
       "9                     0.752200                   0.029565         0.162989   \n",
       "5                     0.805859                   0.034898         0.153852   \n",
       "1                     0.737425                   0.021171         0.160135   \n",
       "3                     0.664644                   0.029530         0.159910   \n",
       "4                     0.659780                   0.028424         0.147555   \n",
       "8                     0.658764                   0.026623         0.158586   \n",
       "10                    0.654887                   0.027081         0.159911   \n",
       "2                     0.636572                   0.028096         0.158209   \n",
       "\n",
       "    force_rmsd-sem  energy_error_per_atom-init-mean  \\\n",
       "6         0.003576                         0.802171   \n",
       "7         0.003195                         0.802171   \n",
       "0         0.002172                         0.802171   \n",
       "9         0.003336                         0.802171   \n",
       "5         0.003034                         0.802171   \n",
       "1         0.001940                         0.802171   \n",
       "3         0.002883                         0.802171   \n",
       "4         0.003620                         0.802171   \n",
       "8         0.003019                         0.802171   \n",
       "10        0.002863                         0.802171   \n",
       "2         0.002449                         0.802171   \n",
       "\n",
       "    energy_error_per_atom-init-sem  force_rmsd-init-mean  force_rmsd-init-sem  \n",
       "6                         0.039401              0.256208             0.005910  \n",
       "7                         0.039401              0.256208             0.005910  \n",
       "0                         0.027773              0.256208             0.004166  \n",
       "9                         0.039401              0.256208             0.005910  \n",
       "5                         0.039401              0.256208             0.005910  \n",
       "1                         0.027773              0.256208             0.004166  \n",
       "3                         0.039401              0.256208             0.005910  \n",
       "4                         0.039401              0.256208             0.005910  \n",
       "8                         0.039401              0.256208             0.005910  \n",
       "10                        0.039401              0.256208             0.005910  \n",
       "2                         0.039401              0.256208             0.005910  "
      ]
     },
     "execution_count": 5,
     "metadata": {},
     "output_type": "execute_result"
    }
   ],
   "source": [
    "data"
   ]
  },
  {
   "cell_type": "markdown",
   "id": "2dbf9db5-505b-4eba-96ae-3d7cd11c7302",
   "metadata": {},
   "source": [
    "Make a figure"
   ]
  },
  {
   "cell_type": "code",
   "execution_count": 6,
   "id": "adc9061d-7086-45e4-b3f1-da838039aa90",
   "metadata": {},
   "outputs": [
    {
     "data": {
      "text/plain": [
       "Text(0.5, 0, 'MD Temperature')"
      ]
     },
     "execution_count": 6,
     "metadata": {},
     "output_type": "execute_result"
    },
    {
     "data": {
      "image/png": "[encoded data removed]",
      "text/plain": [
       "<Figure size 350x275 with 2 Axes>"
      ]
     },
     "metadata": {},
     "output_type": "display_data"
    }
   ],
   "source": [
    "fig, axs = plt.subplots(2, 1, sharex=True, figsize=(3.5, 2.75))\n",
    "\n",
    "#axs[0].set_xlim([0, 21])\n",
    "for ax, t in zip(axs, ['energy_error_per_atom', 'force_rmsd']):\n",
    "    # Plot the initial model\n",
    "    ax.errorbar(data['dynamics_temp'], data[f'{t}-mean'], fmt='--o', yerr=data[f'{t}-sem'])\n",
    "    \n",
    "    # Plot the initial model\n",
    "    row = data.iloc[0]\n",
    "    ax.fill_between(ax.get_xlim(),\n",
    "                    y1=row[f'{t}-init-mean'] + row[f'{t}-init-sem'],\n",
    "                    y2=row[f'{t}-init-mean'] - row[f'{t}-init-sem'],\n",
    "                   color='gray', alpha=0.5)\n",
    "    ax.text(150, row[f'{t}-init-mean'] + row[f'{t}-init-sem'], 'Starting\\nModel',\n",
    "           ha='right', va='bottom', fontsize=8)\n",
    "    \n",
    "axs[0].set_ylabel('Energy MAE\\n(meV/atom)')\n",
    "axs[1].set_ylabel('Force RMSD\\n(eV/Ang)')\n",
    "axs[-1].set_xlabel('MD Temperature')"
   ]
  },
  {
   "cell_type": "markdown",
   "id": "ce62a4f4-7b8d-4978-be79-2095b8a261fb",
   "metadata": {},
   "source": [
    "Lower temperatures seem to give us better agreement with energies, higher temperature with forces. Not sure why, but at least the effect isn't huge."
   ]
  },
  {
   "cell_type": "markdown",
   "id": "45e17e45-7837-43da-95fa-dd8305e25dff",
   "metadata": {},
   "source": [
    "## Evaluate suitability for basin hopping\n",
    "We ran MCTBP with each potential for 100 steps then evaluated the energy of the minima it proposed using TTM. \n",
    "We measure the performance of the model based on a few different metrics:\n",
    "- Energy and Force error between ML and TTM for the proposed minima to measure the quality of the potential for these structures.\n",
    "- Maximum force for the proposed structure, as computed with TTM. A measure of how close to the relaxed geometry we are\n",
    "- Ranking performance: Whether the minima ordered by energy via ML is close to the ranking via TTM. "
   ]
  },
  {
   "cell_type": "code",
   "execution_count": 7,
   "id": "45b88405-31af-445c-b218-f7e7b8c091d3",
   "metadata": {},
   "outputs": [
    {
     "name": "stdout",
     "output_type": "stream",
     "text": [
      "Could not assess /home/lward/Work/ExaLearn/fast-finedtuned-forcefields/colmena/initial/runs/ttm-md-23Mar15-185348-524028 for ../prod-runs/ttm_md-3000_thr-0.001_T-200\n",
      "Could not assess /home/lward/Work/ExaLearn/fast-finedtuned-forcefields/colmena/initial/runs/ttm-md-23Mar15-181048-524028 for ../prod-runs/ttm_md-3000_thr-0.001_T-200\n"
     ]
    },
    {
     "ename": "ValueError",
     "evalue": "No objects to concatenate",
     "output_type": "error",
     "traceback": [
      "\u001b[0;31m---------------------------------------------------------------------------\u001b[0m",
      "\u001b[0;31mValueError\u001b[0m                                Traceback (most recent call last)",
      "Cell \u001b[0;32mIn[7], line 1\u001b[0m\n\u001b[0;32m----> 1\u001b[0m data \u001b[38;5;241m=\u001b[39m \u001b[43mutils\u001b[49m\u001b[38;5;241;43m.\u001b[39;49m\u001b[43massess_from_mctbp_runs\u001b[49m\u001b[43m(\u001b[49m\u001b[43mruns\u001b[49m\u001b[43m,\u001b[49m\u001b[43m \u001b[49m\u001b[43m[\u001b[49m\u001b[38;5;124;43m'\u001b[39;49m\u001b[38;5;124;43mdynamics_temp\u001b[39;49m\u001b[38;5;124;43m'\u001b[39;49m\u001b[43m]\u001b[49m\u001b[43m)\u001b[49m\u001b[38;5;241m.\u001b[39msort_values(\u001b[38;5;124m'\u001b[39m\u001b[38;5;124mdynamics_temp\u001b[39m\u001b[38;5;124m'\u001b[39m)\n",
      "File \u001b[0;32m~/Work/ExaLearn/fast-finedtuned-forcefields/colmena/initial/notebooks/method-selection/utils.py:86\u001b[0m, in \u001b[0;36massess_from_mctbp_runs\u001b[0;34m(runs, tags)\u001b[0m\n\u001b[1;32m     84\u001b[0m         \u001b[38;5;28;01mcontinue\u001b[39;00m\n\u001b[1;32m     85\u001b[0m n_duplicates \u001b[38;5;241m=\u001b[39m \u001b[38;5;28mlen\u001b[39m(run_data)\n\u001b[0;32m---> 86\u001b[0m run_data \u001b[38;5;241m=\u001b[39m \u001b[43mpd\u001b[49m\u001b[38;5;241;43m.\u001b[39;49m\u001b[43mconcat\u001b[49m\u001b[43m(\u001b[49m\u001b[43mrun_data\u001b[49m\u001b[43m)\u001b[49m\n\u001b[1;32m     88\u001b[0m \u001b[38;5;66;03m# Store the mean and SEM for each\u001b[39;00m\n\u001b[1;32m     89\u001b[0m record \u001b[38;5;241m=\u001b[39m {\u001b[38;5;124m'\u001b[39m\u001b[38;5;124mname\u001b[39m\u001b[38;5;124m'\u001b[39m: run\u001b[38;5;241m.\u001b[39mname}\n",
      "File \u001b[0;32m~/miniconda3/envs/fastforce/lib/python3.10/site-packages/pandas/util/_decorators.py:331\u001b[0m, in \u001b[0;36mdeprecate_nonkeyword_arguments.<locals>.decorate.<locals>.wrapper\u001b[0;34m(*args, **kwargs)\u001b[0m\n\u001b[1;32m    325\u001b[0m \u001b[38;5;28;01mif\u001b[39;00m \u001b[38;5;28mlen\u001b[39m(args) \u001b[38;5;241m>\u001b[39m num_allow_args:\n\u001b[1;32m    326\u001b[0m     warnings\u001b[38;5;241m.\u001b[39mwarn(\n\u001b[1;32m    327\u001b[0m         msg\u001b[38;5;241m.\u001b[39mformat(arguments\u001b[38;5;241m=\u001b[39m_format_argument_list(allow_args)),\n\u001b[1;32m    328\u001b[0m         \u001b[38;5;167;01mFutureWarning\u001b[39;00m,\n\u001b[1;32m    329\u001b[0m         stacklevel\u001b[38;5;241m=\u001b[39mfind_stack_level(),\n\u001b[1;32m    330\u001b[0m     )\n\u001b[0;32m--> 331\u001b[0m \u001b[38;5;28;01mreturn\u001b[39;00m \u001b[43mfunc\u001b[49m\u001b[43m(\u001b[49m\u001b[38;5;241;43m*\u001b[39;49m\u001b[43margs\u001b[49m\u001b[43m,\u001b[49m\u001b[43m \u001b[49m\u001b[38;5;241;43m*\u001b[39;49m\u001b[38;5;241;43m*\u001b[39;49m\u001b[43mkwargs\u001b[49m\u001b[43m)\u001b[49m\n",
      "File \u001b[0;32m~/miniconda3/envs/fastforce/lib/python3.10/site-packages/pandas/core/reshape/concat.py:368\u001b[0m, in \u001b[0;36mconcat\u001b[0;34m(objs, axis, join, ignore_index, keys, levels, names, verify_integrity, sort, copy)\u001b[0m\n\u001b[1;32m    146\u001b[0m \u001b[38;5;129m@deprecate_nonkeyword_arguments\u001b[39m(version\u001b[38;5;241m=\u001b[39m\u001b[38;5;28;01mNone\u001b[39;00m, allowed_args\u001b[38;5;241m=\u001b[39m[\u001b[38;5;124m\"\u001b[39m\u001b[38;5;124mobjs\u001b[39m\u001b[38;5;124m\"\u001b[39m])\n\u001b[1;32m    147\u001b[0m \u001b[38;5;28;01mdef\u001b[39;00m \u001b[38;5;21mconcat\u001b[39m(\n\u001b[1;32m    148\u001b[0m     objs: Iterable[NDFrame] \u001b[38;5;241m|\u001b[39m Mapping[HashableT, NDFrame],\n\u001b[0;32m   (...)\u001b[0m\n\u001b[1;32m    157\u001b[0m     copy: \u001b[38;5;28mbool\u001b[39m \u001b[38;5;241m=\u001b[39m \u001b[38;5;28;01mTrue\u001b[39;00m,\n\u001b[1;32m    158\u001b[0m ) \u001b[38;5;241m-\u001b[39m\u001b[38;5;241m>\u001b[39m DataFrame \u001b[38;5;241m|\u001b[39m Series:\n\u001b[1;32m    159\u001b[0m     \u001b[38;5;124;03m\"\"\"\u001b[39;00m\n\u001b[1;32m    160\u001b[0m \u001b[38;5;124;03m    Concatenate pandas objects along a particular axis.\u001b[39;00m\n\u001b[1;32m    161\u001b[0m \n\u001b[0;32m   (...)\u001b[0m\n\u001b[1;32m    366\u001b[0m \u001b[38;5;124;03m    1   3   4\u001b[39;00m\n\u001b[1;32m    367\u001b[0m \u001b[38;5;124;03m    \"\"\"\u001b[39;00m\n\u001b[0;32m--> 368\u001b[0m     op \u001b[38;5;241m=\u001b[39m \u001b[43m_Concatenator\u001b[49m\u001b[43m(\u001b[49m\n\u001b[1;32m    369\u001b[0m \u001b[43m        \u001b[49m\u001b[43mobjs\u001b[49m\u001b[43m,\u001b[49m\n\u001b[1;32m    370\u001b[0m \u001b[43m        \u001b[49m\u001b[43maxis\u001b[49m\u001b[38;5;241;43m=\u001b[39;49m\u001b[43maxis\u001b[49m\u001b[43m,\u001b[49m\n\u001b[1;32m    371\u001b[0m \u001b[43m        \u001b[49m\u001b[43mignore_index\u001b[49m\u001b[38;5;241;43m=\u001b[39;49m\u001b[43mignore_index\u001b[49m\u001b[43m,\u001b[49m\n\u001b[1;32m    372\u001b[0m \u001b[43m        \u001b[49m\u001b[43mjoin\u001b[49m\u001b[38;5;241;43m=\u001b[39;49m\u001b[43mjoin\u001b[49m\u001b[43m,\u001b[49m\n\u001b[1;32m    373\u001b[0m \u001b[43m        \u001b[49m\u001b[43mkeys\u001b[49m\u001b[38;5;241;43m=\u001b[39;49m\u001b[43mkeys\u001b[49m\u001b[43m,\u001b[49m\n\u001b[1;32m    374\u001b[0m \u001b[43m        \u001b[49m\u001b[43mlevels\u001b[49m\u001b[38;5;241;43m=\u001b[39;49m\u001b[43mlevels\u001b[49m\u001b[43m,\u001b[49m\n\u001b[1;32m    375\u001b[0m \u001b[43m        \u001b[49m\u001b[43mnames\u001b[49m\u001b[38;5;241;43m=\u001b[39;49m\u001b[43mnames\u001b[49m\u001b[43m,\u001b[49m\n\u001b[1;32m    376\u001b[0m \u001b[43m        \u001b[49m\u001b[43mverify_integrity\u001b[49m\u001b[38;5;241;43m=\u001b[39;49m\u001b[43mverify_integrity\u001b[49m\u001b[43m,\u001b[49m\n\u001b[1;32m    377\u001b[0m \u001b[43m        \u001b[49m\u001b[43mcopy\u001b[49m\u001b[38;5;241;43m=\u001b[39;49m\u001b[43mcopy\u001b[49m\u001b[43m,\u001b[49m\n\u001b[1;32m    378\u001b[0m \u001b[43m        \u001b[49m\u001b[43msort\u001b[49m\u001b[38;5;241;43m=\u001b[39;49m\u001b[43msort\u001b[49m\u001b[43m,\u001b[49m\n\u001b[1;32m    379\u001b[0m \u001b[43m    \u001b[49m\u001b[43m)\u001b[49m\n\u001b[1;32m    381\u001b[0m     \u001b[38;5;28;01mreturn\u001b[39;00m op\u001b[38;5;241m.\u001b[39mget_result()\n",
      "File \u001b[0;32m~/miniconda3/envs/fastforce/lib/python3.10/site-packages/pandas/core/reshape/concat.py:425\u001b[0m, in \u001b[0;36m_Concatenator.__init__\u001b[0;34m(self, objs, axis, join, keys, levels, names, ignore_index, verify_integrity, copy, sort)\u001b[0m\n\u001b[1;32m    422\u001b[0m     objs \u001b[38;5;241m=\u001b[39m \u001b[38;5;28mlist\u001b[39m(objs)\n\u001b[1;32m    424\u001b[0m \u001b[38;5;28;01mif\u001b[39;00m \u001b[38;5;28mlen\u001b[39m(objs) \u001b[38;5;241m==\u001b[39m \u001b[38;5;241m0\u001b[39m:\n\u001b[0;32m--> 425\u001b[0m     \u001b[38;5;28;01mraise\u001b[39;00m \u001b[38;5;167;01mValueError\u001b[39;00m(\u001b[38;5;124m\"\u001b[39m\u001b[38;5;124mNo objects to concatenate\u001b[39m\u001b[38;5;124m\"\u001b[39m)\n\u001b[1;32m    427\u001b[0m \u001b[38;5;28;01mif\u001b[39;00m keys \u001b[38;5;129;01mis\u001b[39;00m \u001b[38;5;28;01mNone\u001b[39;00m:\n\u001b[1;32m    428\u001b[0m     objs \u001b[38;5;241m=\u001b[39m \u001b[38;5;28mlist\u001b[39m(com\u001b[38;5;241m.\u001b[39mnot_none(\u001b[38;5;241m*\u001b[39mobjs))\n",
      "\u001b[0;31mValueError\u001b[0m: No objects to concatenate"
     ]
    }
   ],
   "source": [
    "data = utils.assess_from_mctbp_runs(runs, ['dynamics_temp']).sort_values('dynamics_temp')"
   ]
  },
  {
   "cell_type": "markdown",
   "id": "9dcd33fe-f3eb-4860-b038-e50565386a03",
   "metadata": {},
   "source": [
    "Summarize all runs"
   ]
  },
  {
   "cell_type": "code",
   "execution_count": null,
   "id": "2886dc1e-4601-429d-99a3-f28a9fd9b129",
   "metadata": {},
   "outputs": [],
   "source": [
    "data"
   ]
  },
  {
   "cell_type": "markdown",
   "id": "f4bf6eff-1583-446f-9a15-c325d5797f4b",
   "metadata": {},
   "source": [
    "Plot the errors"
   ]
  },
  {
   "cell_type": "code",
   "execution_count": null,
   "id": "db3a9bf5-9fc8-4091-ba01-0ab19da92743",
   "metadata": {},
   "outputs": [],
   "source": [
    "fig, axs = plt.subplots(4, 1, sharex=True, figsize=(3.5, 4.25))\n",
    "\n",
    "for ax, t in zip(axs, ['energy_error', 'force_error', 'max_force', 'tau']):\n",
    "    ax.errorbar(data['dynamics_temp'], data[f'{t}-mean'], fmt='--o', yerr=data[f'{t}-sem'])\n",
    "    \n",
    "axs[0].set_ylabel('Energy MAE\\n(meV/atom)')\n",
    "axs[1].set_ylabel('Force RMSD\\n(eV/Ang)')\n",
    "axs[2].set_ylabel('Max Force\\n(eV/Ang)')\n",
    "axs[3].set_ylabel('Ranking\\nPerformance')\n",
    "axs[-1].set_xlabel('MD Temperature (K)')\n",
    "\n",
    "fig.tight_layout()"
   ]
  },
  {
   "cell_type": "markdown",
   "id": "8ed2aa8c-d2ad-41c8-a4b7-b51e4abc12a4",
   "metadata": {},
   "source": [
    "The MCTBP performance increases with MD run temperature. Seems we need those higher-energy configurations to get the relaxations correct."
   ]
  }
 ],
 "metadata": {
  "kernelspec": {
   "display_name": "Python 3 (ipykernel)",
   "language": "python",
   "name": "python3"
  },
  "language_info": {
   "codemirror_mode": {
    "name": "ipython",
    "version": 3
   },
   "file_extension": ".py",
   "mimetype": "text/x-python",
   "name": "python",
   "nbconvert_exporter": "python",
   "pygments_lexer": "ipython3",
   "version": "3.10.8"
  }
 },
 "nbformat": 4,
 "nbformat_minor": 5
}
